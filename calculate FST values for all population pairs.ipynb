{
 "cells": [
  {
   "cell_type": "code",
   "execution_count": 1,
   "id": "average-eating",
   "metadata": {},
   "outputs": [
    {
     "name": "stderr",
     "output_type": "stream",
     "text": [
      "── \u001b[1mAttaching packages\u001b[22m ─────────────────────────────────────── tidyverse 1.3.0 ──\n",
      "\n",
      "\u001b[32m✔\u001b[39m \u001b[34mggplot2\u001b[39m 3.3.3     \u001b[32m✔\u001b[39m \u001b[34mpurrr  \u001b[39m 0.3.4\n",
      "\u001b[32m✔\u001b[39m \u001b[34mtibble \u001b[39m 3.0.6     \u001b[32m✔\u001b[39m \u001b[34mdplyr  \u001b[39m 1.0.4\n",
      "\u001b[32m✔\u001b[39m \u001b[34mtidyr  \u001b[39m 1.1.2     \u001b[32m✔\u001b[39m \u001b[34mstringr\u001b[39m 1.4.0\n",
      "\u001b[32m✔\u001b[39m \u001b[34mreadr  \u001b[39m 1.4.0     \u001b[32m✔\u001b[39m \u001b[34mforcats\u001b[39m 0.5.1\n",
      "\n",
      "── \u001b[1mConflicts\u001b[22m ────────────────────────────────────────── tidyverse_conflicts() ──\n",
      "\u001b[31m✖\u001b[39m \u001b[34mdplyr\u001b[39m::\u001b[32mfilter()\u001b[39m masks \u001b[34mstats\u001b[39m::filter()\n",
      "\u001b[31m✖\u001b[39m \u001b[34mdplyr\u001b[39m::\u001b[32mlag()\u001b[39m    masks \u001b[34mstats\u001b[39m::lag()\n",
      "\n"
     ]
    }
   ],
   "source": [
    "# load packages\n",
    "\n",
    "library(tidyverse)\n",
    "library(rehh)\n",
    "library(repr)"
   ]
  },
  {
   "cell_type": "code",
   "execution_count": 2,
   "id": "based-major",
   "metadata": {},
   "outputs": [
    {
     "data": {
      "text/html": [
       "<table class=\"dataframe\">\n",
       "<caption>A data.frame: 6 × 5</caption>\n",
       "<thead>\n",
       "\t<tr><th></th><th scope=col>id</th><th scope=col>chr</th><th scope=col>pos</th><th scope=col>ANC</th><th scope=col>DER</th></tr>\n",
       "\t<tr><th></th><th scope=col>&lt;chr&gt;</th><th scope=col>&lt;chr&gt;</th><th scope=col>&lt;int&gt;</th><th scope=col>&lt;chr&gt;</th><th scope=col>&lt;chr&gt;</th></tr>\n",
       "</thead>\n",
       "<tbody>\n",
       "\t<tr><th scope=row>1</th><td>X:X_365712</td><td>X</td><td>365712</td><td>A</td><td>G</td></tr>\n",
       "\t<tr><th scope=row>2</th><td>X:X_400000</td><td>X</td><td>400000</td><td>T</td><td>C</td></tr>\n",
       "\t<tr><th scope=row>3</th><td>X:X_400108</td><td>X</td><td>400108</td><td>A</td><td>G</td></tr>\n",
       "\t<tr><th scope=row>4</th><td>X:X_400132</td><td>X</td><td>400132</td><td>T</td><td>G</td></tr>\n",
       "\t<tr><th scope=row>5</th><td>X:X_400148</td><td>X</td><td>400148</td><td>A</td><td>G</td></tr>\n",
       "\t<tr><th scope=row>6</th><td>X:X_400303</td><td>X</td><td>400303</td><td>C</td><td>G</td></tr>\n",
       "</tbody>\n",
       "</table>\n"
      ],
      "text/latex": [
       "A data.frame: 6 × 5\n",
       "\\begin{tabular}{r|lllll}\n",
       "  & id & chr & pos & ANC & DER\\\\\n",
       "  & <chr> & <chr> & <int> & <chr> & <chr>\\\\\n",
       "\\hline\n",
       "\t1 & X:X\\_365712 & X & 365712 & A & G\\\\\n",
       "\t2 & X:X\\_400000 & X & 400000 & T & C\\\\\n",
       "\t3 & X:X\\_400108 & X & 400108 & A & G\\\\\n",
       "\t4 & X:X\\_400132 & X & 400132 & T & G\\\\\n",
       "\t5 & X:X\\_400148 & X & 400148 & A & G\\\\\n",
       "\t6 & X:X\\_400303 & X & 400303 & C & G\\\\\n",
       "\\end{tabular}\n"
      ],
      "text/markdown": [
       "\n",
       "A data.frame: 6 × 5\n",
       "\n",
       "| <!--/--> | id &lt;chr&gt; | chr &lt;chr&gt; | pos &lt;int&gt; | ANC &lt;chr&gt; | DER &lt;chr&gt; |\n",
       "|---|---|---|---|---|---|\n",
       "| 1 | X:X_365712 | X | 365712 | A | G |\n",
       "| 2 | X:X_400000 | X | 400000 | T | C |\n",
       "| 3 | X:X_400108 | X | 400108 | A | G |\n",
       "| 4 | X:X_400132 | X | 400132 | T | G |\n",
       "| 5 | X:X_400148 | X | 400148 | A | G |\n",
       "| 6 | X:X_400303 | X | 400303 | C | G |\n",
       "\n"
      ],
      "text/plain": [
       "  id         chr pos    ANC DER\n",
       "1 X:X_365712 X   365712 A   G  \n",
       "2 X:X_400000 X   400000 T   C  \n",
       "3 X:X_400108 X   400108 A   G  \n",
       "4 X:X_400132 X   400132 T   G  \n",
       "5 X:X_400148 X   400148 A   G  \n",
       "6 X:X_400303 X   400303 C   G  "
      ]
     },
     "metadata": {},
     "output_type": "display_data"
    }
   ],
   "source": [
    "#read in the data\n",
    "\n",
    "snps <- read.table(\"snps_filtered.txt\", sep = '\\t')\n",
    "colnames(snps) = c(\"id\", \"chr\", \"pos\", \"ANC\", \"DER\")\n",
    "snps <- snps %>% arrange(pos) \n",
    "head(snps)\n",
    "\n",
    "# snps %>% filter(is.na(ANC))\n",
    "# snps %>% filter(is.na(DER))"
   ]
  },
  {
   "cell_type": "code",
   "execution_count": 3,
   "id": "emotional-consciousness",
   "metadata": {},
   "outputs": [],
   "source": [
    "#write.table(snps, \"snps_filtered.txt\", sep = '\\t', col.names = F, row.names = F)"
   ]
  },
  {
   "cell_type": "code",
   "execution_count": 4,
   "id": "electrical-visiting",
   "metadata": {},
   "outputs": [
    {
     "data": {
      "text/html": [
       "<table class=\"dataframe\">\n",
       "<caption>A data.frame: 6 × 21</caption>\n",
       "<thead>\n",
       "\t<tr><th></th><th scope=col>V1</th><th scope=col>V2</th><th scope=col>V3</th><th scope=col>V4</th><th scope=col>V5</th><th scope=col>V6</th><th scope=col>V7</th><th scope=col>V8</th><th scope=col>V9</th><th scope=col>V10</th><th scope=col>⋯</th><th scope=col>V12</th><th scope=col>V13</th><th scope=col>V14</th><th scope=col>V15</th><th scope=col>V16</th><th scope=col>V17</th><th scope=col>V18</th><th scope=col>V19</th><th scope=col>V20</th><th scope=col>V21</th></tr>\n",
       "\t<tr><th></th><th scope=col>&lt;chr&gt;</th><th scope=col>&lt;chr&gt;</th><th scope=col>&lt;chr&gt;</th><th scope=col>&lt;chr&gt;</th><th scope=col>&lt;chr&gt;</th><th scope=col>&lt;chr&gt;</th><th scope=col>&lt;chr&gt;</th><th scope=col>&lt;chr&gt;</th><th scope=col>&lt;chr&gt;</th><th scope=col>&lt;chr&gt;</th><th scope=col>⋯</th><th scope=col>&lt;chr&gt;</th><th scope=col>&lt;chr&gt;</th><th scope=col>&lt;chr&gt;</th><th scope=col>&lt;chr&gt;</th><th scope=col>&lt;chr&gt;</th><th scope=col>&lt;chr&gt;</th><th scope=col>&lt;chr&gt;</th><th scope=col>&lt;chr&gt;</th><th scope=col>&lt;chr&gt;</th><th scope=col>&lt;chr&gt;</th></tr>\n",
       "</thead>\n",
       "<tbody>\n",
       "\t<tr><th scope=row>1</th><td>A</td><td>A</td><td>A</td><td>A</td><td>A</td><td>A</td><td>A</td><td>A</td><td>A</td><td>A</td><td>⋯</td><td>A</td><td>A</td><td>A</td><td>A</td><td>A</td><td>A</td><td>A</td><td>A</td><td>A</td><td>A</td></tr>\n",
       "\t<tr><th scope=row>2</th><td>T</td><td>T</td><td>T</td><td>T</td><td>T</td><td>T</td><td>T</td><td>T</td><td>T</td><td>T</td><td>⋯</td><td>T</td><td>T</td><td>T</td><td>T</td><td>C</td><td>T</td><td>T</td><td>T</td><td>T</td><td>T</td></tr>\n",
       "\t<tr><th scope=row>3</th><td>G</td><td>G</td><td>G</td><td>A</td><td>G</td><td>G</td><td>G</td><td>G</td><td>G</td><td>G</td><td>⋯</td><td>G</td><td>G</td><td>G</td><td>G</td><td>G</td><td>G</td><td>G</td><td>G</td><td>G</td><td>G</td></tr>\n",
       "\t<tr><th scope=row>4</th><td>G</td><td>T</td><td>T</td><td>T</td><td>G</td><td>G</td><td>T</td><td>T</td><td>T</td><td>T</td><td>⋯</td><td>T</td><td>T</td><td>G</td><td>T</td><td>T</td><td>T</td><td>G</td><td>T</td><td>T</td><td>T</td></tr>\n",
       "\t<tr><th scope=row>5</th><td>A</td><td>A</td><td>A</td><td>A</td><td>A</td><td>A</td><td>A</td><td>A</td><td>A</td><td>A</td><td>⋯</td><td>A</td><td>A</td><td>A</td><td>A</td><td>A</td><td>A</td><td>A</td><td>A</td><td>A</td><td>A</td></tr>\n",
       "\t<tr><th scope=row>6</th><td>G</td><td>C</td><td>C</td><td>G</td><td>C</td><td>C</td><td>G</td><td>C</td><td>C</td><td>C</td><td>⋯</td><td>C</td><td>C</td><td>C</td><td>G</td><td>G</td><td>G</td><td>G</td><td>C</td><td>C</td><td>C</td></tr>\n",
       "</tbody>\n",
       "</table>\n"
      ],
      "text/latex": [
       "A data.frame: 6 × 21\n",
       "\\begin{tabular}{r|lllllllllllllllllllll}\n",
       "  & V1 & V2 & V3 & V4 & V5 & V6 & V7 & V8 & V9 & V10 & ⋯ & V12 & V13 & V14 & V15 & V16 & V17 & V18 & V19 & V20 & V21\\\\\n",
       "  & <chr> & <chr> & <chr> & <chr> & <chr> & <chr> & <chr> & <chr> & <chr> & <chr> & ⋯ & <chr> & <chr> & <chr> & <chr> & <chr> & <chr> & <chr> & <chr> & <chr> & <chr>\\\\\n",
       "\\hline\n",
       "\t1 & A & A & A & A & A & A & A & A & A & A & ⋯ & A & A & A & A & A & A & A & A & A & A\\\\\n",
       "\t2 & T & T & T & T & T & T & T & T & T & T & ⋯ & T & T & T & T & C & T & T & T & T & T\\\\\n",
       "\t3 & G & G & G & A & G & G & G & G & G & G & ⋯ & G & G & G & G & G & G & G & G & G & G\\\\\n",
       "\t4 & G & T & T & T & G & G & T & T & T & T & ⋯ & T & T & G & T & T & T & G & T & T & T\\\\\n",
       "\t5 & A & A & A & A & A & A & A & A & A & A & ⋯ & A & A & A & A & A & A & A & A & A & A\\\\\n",
       "\t6 & G & C & C & G & C & C & G & C & C & C & ⋯ & C & C & C & G & G & G & G & C & C & C\\\\\n",
       "\\end{tabular}\n"
      ],
      "text/markdown": [
       "\n",
       "A data.frame: 6 × 21\n",
       "\n",
       "| <!--/--> | V1 &lt;chr&gt; | V2 &lt;chr&gt; | V3 &lt;chr&gt; | V4 &lt;chr&gt; | V5 &lt;chr&gt; | V6 &lt;chr&gt; | V7 &lt;chr&gt; | V8 &lt;chr&gt; | V9 &lt;chr&gt; | V10 &lt;chr&gt; | ⋯ ⋯ | V12 &lt;chr&gt; | V13 &lt;chr&gt; | V14 &lt;chr&gt; | V15 &lt;chr&gt; | V16 &lt;chr&gt; | V17 &lt;chr&gt; | V18 &lt;chr&gt; | V19 &lt;chr&gt; | V20 &lt;chr&gt; | V21 &lt;chr&gt; |\n",
       "|---|---|---|---|---|---|---|---|---|---|---|---|---|---|---|---|---|---|---|---|---|---|\n",
       "| 1 | A | A | A | A | A | A | A | A | A | A | ⋯ | A | A | A | A | A | A | A | A | A | A |\n",
       "| 2 | T | T | T | T | T | T | T | T | T | T | ⋯ | T | T | T | T | C | T | T | T | T | T |\n",
       "| 3 | G | G | G | A | G | G | G | G | G | G | ⋯ | G | G | G | G | G | G | G | G | G | G |\n",
       "| 4 | G | T | T | T | G | G | T | T | T | T | ⋯ | T | T | G | T | T | T | G | T | T | T |\n",
       "| 5 | A | A | A | A | A | A | A | A | A | A | ⋯ | A | A | A | A | A | A | A | A | A | A |\n",
       "| 6 | G | C | C | G | C | C | G | C | C | C | ⋯ | C | C | C | G | G | G | G | C | C | C |\n",
       "\n"
      ],
      "text/plain": [
       "  V1 V2 V3 V4 V5 V6 V7 V8 V9 V10 ⋯ V12 V13 V14 V15 V16 V17 V18 V19 V20 V21\n",
       "1 A  A  A  A  A  A  A  A  A  A   ⋯ A   A   A   A   A   A   A   A   A   A  \n",
       "2 T  T  T  T  T  T  T  T  T  T   ⋯ T   T   T   T   C   T   T   T   T   T  \n",
       "3 G  G  G  A  G  G  G  G  G  G   ⋯ G   G   G   G   G   G   G   G   G   G  \n",
       "4 G  T  T  T  G  G  T  T  T  T   ⋯ T   T   G   T   T   T   G   T   T   T  \n",
       "5 A  A  A  A  A  A  A  A  A  A   ⋯ A   A   A   A   A   A   A   A   A   A  \n",
       "6 G  C  C  G  C  C  G  C  C  C   ⋯ C   C   C   G   G   G   G   C   C   C  "
      ]
     },
     "metadata": {},
     "output_type": "display_data"
    }
   ],
   "source": [
    "#read in genotype data\n",
    "\n",
    "AF <- read.table(\"genotypes_AF\", sep = '\\t', header = F)\n",
    "head(AF)\n",
    "\n",
    "# apply(AF, 2, function(x) any(is.na(x)))"
   ]
  },
  {
   "cell_type": "code",
   "execution_count": 5,
   "id": "interesting-landing",
   "metadata": {},
   "outputs": [
    {
     "name": "stderr",
     "output_type": "stream",
     "text": [
      "Warning message in read.table(\"metadata.txt\", sep = \"\\t\", header = T, col.names = c(\"n\", :\n",
      "“header and 'col.names' are of different lengths”\n"
     ]
    },
    {
     "data": {
      "text/html": [
       "<table class=\"dataframe\">\n",
       "<caption>A data.frame: 6 × 3</caption>\n",
       "<thead>\n",
       "\t<tr><th></th><th scope=col>n</th><th scope=col>ind</th><th scope=col>region</th></tr>\n",
       "\t<tr><th></th><th scope=col>&lt;int&gt;</th><th scope=col>&lt;chr&gt;</th><th scope=col>&lt;chr&gt;</th></tr>\n",
       "</thead>\n",
       "<tbody>\n",
       "\t<tr><th scope=row>1</th><td>1</td><td>S_Abkhasian-1</td><td>WestEurasia       </td></tr>\n",
       "\t<tr><th scope=row>2</th><td>2</td><td>S_Abkhasian-2</td><td>WestEurasia       </td></tr>\n",
       "\t<tr><th scope=row>3</th><td>3</td><td>S_Adygei-1   </td><td>WestEurasia       </td></tr>\n",
       "\t<tr><th scope=row>4</th><td>4</td><td>S_Aleut-1    </td><td>CentralAsiaSiberia</td></tr>\n",
       "\t<tr><th scope=row>5</th><td>5</td><td>S_Ami-1      </td><td>EastAsia          </td></tr>\n",
       "\t<tr><th scope=row>6</th><td>6</td><td>S_Ami-2      </td><td>EastAsia          </td></tr>\n",
       "</tbody>\n",
       "</table>\n"
      ],
      "text/latex": [
       "A data.frame: 6 × 3\n",
       "\\begin{tabular}{r|lll}\n",
       "  & n & ind & region\\\\\n",
       "  & <int> & <chr> & <chr>\\\\\n",
       "\\hline\n",
       "\t1 & 1 & S\\_Abkhasian-1 & WestEurasia       \\\\\n",
       "\t2 & 2 & S\\_Abkhasian-2 & WestEurasia       \\\\\n",
       "\t3 & 3 & S\\_Adygei-1    & WestEurasia       \\\\\n",
       "\t4 & 4 & S\\_Aleut-1     & CentralAsiaSiberia\\\\\n",
       "\t5 & 5 & S\\_Ami-1       & EastAsia          \\\\\n",
       "\t6 & 6 & S\\_Ami-2       & EastAsia          \\\\\n",
       "\\end{tabular}\n"
      ],
      "text/markdown": [
       "\n",
       "A data.frame: 6 × 3\n",
       "\n",
       "| <!--/--> | n &lt;int&gt; | ind &lt;chr&gt; | region &lt;chr&gt; |\n",
       "|---|---|---|---|\n",
       "| 1 | 1 | S_Abkhasian-1 | WestEurasia        |\n",
       "| 2 | 2 | S_Abkhasian-2 | WestEurasia        |\n",
       "| 3 | 3 | S_Adygei-1    | WestEurasia        |\n",
       "| 4 | 4 | S_Aleut-1     | CentralAsiaSiberia |\n",
       "| 5 | 5 | S_Ami-1       | EastAsia           |\n",
       "| 6 | 6 | S_Ami-2       | EastAsia           |\n",
       "\n"
      ],
      "text/plain": [
       "  n ind           region            \n",
       "1 1 S_Abkhasian-1 WestEurasia       \n",
       "2 2 S_Abkhasian-2 WestEurasia       \n",
       "3 3 S_Adygei-1    WestEurasia       \n",
       "4 4 S_Aleut-1     CentralAsiaSiberia\n",
       "5 5 S_Ami-1       EastAsia          \n",
       "6 6 S_Ami-2       EastAsia          "
      ]
     },
     "metadata": {},
     "output_type": "display_data"
    }
   ],
   "source": [
    "# read in metadata\n",
    "\n",
    "pop_region_data <- read.table(\"metadata.txt\", sep = '\\t', header = T, col.names = c(\"n\", \"ind\", \"region\"))\n",
    "head(pop_region_data)"
   ]
  },
  {
   "cell_type": "code",
   "execution_count": 6,
   "id": "framed-hobby",
   "metadata": {},
   "outputs": [
    {
     "name": "stdout",
     "output_type": "stream",
     "text": [
      "[1] \"Africa\"\n",
      "* Reading input file(s) *\n",
      "Map info: 411892 markers declared for chromosome X .\n",
      "Haplotype input file in transposed format assumed.\n",
      "Alleles are being recoded according to fourth and fifth column of map file.\n",
      "* Filtering data *\n",
      "Discard haplotypes with less than 100 % of genotyped markers.\n",
      "No haplotype discarded.\n",
      "Discard markers genotyped on less than 100 % of haplotypes.\n",
      "No marker discarded.\n",
      "Data consists of 21 haplotypes and 411892 markers.\n",
      "Number of mono-, bi-, multi-allelic markers:\n",
      "1 2 \n",
      "174849 237043 \n",
      "[1] \"West Eurasia\"\n",
      "* Reading input file(s) *\n",
      "Map info: 411892 markers declared for chromosome X .\n",
      "Haplotype input file in transposed format assumed.\n",
      "Alleles are being recoded according to fourth and fifth column of map file.\n",
      "* Filtering data *\n",
      "Discard haplotypes with less than 100 % of genotyped markers.\n",
      "No haplotype discarded.\n",
      "Discard markers genotyped on less than 100 % of haplotypes.\n",
      "No marker discarded.\n",
      "Data consists of 44 haplotypes and 411892 markers.\n",
      "Number of mono-, bi-, multi-allelic markers:\n",
      "1 2 \n",
      "259860 152032 \n",
      "[1] \"East Asia\"\n",
      "* Reading input file(s) *\n",
      "Map info: 411892 markers declared for chromosome X .\n",
      "Haplotype input file in transposed format assumed.\n",
      "Alleles are being recoded according to fourth and fifth column of map file.\n",
      "* Filtering data *\n",
      "Discard haplotypes with less than 100 % of genotyped markers.\n",
      "No haplotype discarded.\n",
      "Discard markers genotyped on less than 100 % of haplotypes.\n",
      "No marker discarded.\n",
      "Data consists of 24 haplotypes and 411892 markers.\n",
      "Number of mono-, bi-, multi-allelic markers:\n",
      "1 2 \n",
      "302583 109309 \n",
      "[1] \"South Asia\"\n",
      "* Reading input file(s) *\n",
      "Map info: 411892 markers declared for chromosome X .\n",
      "Haplotype input file in transposed format assumed.\n",
      "Alleles are being recoded according to fourth and fifth column of map file.\n",
      "* Filtering data *\n",
      "Discard haplotypes with less than 100 % of genotyped markers.\n",
      "No haplotype discarded.\n",
      "Discard markers genotyped on less than 100 % of haplotypes.\n",
      "No marker discarded.\n",
      "Data consists of 30 haplotypes and 411892 markers.\n",
      "Number of mono-, bi-, multi-allelic markers:\n",
      "1 2 \n",
      "279805 132087 \n",
      "[1] \"America\"\n",
      "* Reading input file(s) *\n",
      "Map info: 411892 markers declared for chromosome X .\n",
      "Haplotype input file in transposed format assumed.\n",
      "Alleles are being recoded according to fourth and fifth column of map file.\n",
      "* Filtering data *\n",
      "Discard haplotypes with less than 100 % of genotyped markers.\n",
      "No haplotype discarded.\n",
      "Discard markers genotyped on less than 100 % of haplotypes.\n",
      "No marker discarded.\n",
      "Data consists of 6 haplotypes and 411892 markers.\n",
      "Number of mono-, bi-, multi-allelic markers:\n",
      "1 2 \n",
      "359031 52861 \n",
      "[1] \"Central Asia Siberia\"\n",
      "* Reading input file(s) *\n",
      "Map info: 411892 markers declared for chromosome X .\n",
      "Haplotype input file in transposed format assumed.\n",
      "Alleles are being recoded according to fourth and fifth column of map file.\n",
      "* Filtering data *\n",
      "Discard haplotypes with less than 100 % of genotyped markers.\n",
      "No haplotype discarded.\n",
      "Discard markers genotyped on less than 100 % of haplotypes.\n",
      "No marker discarded.\n",
      "Data consists of 8 haplotypes and 411892 markers.\n",
      "Number of mono-, bi-, multi-allelic markers:\n",
      "1 2 \n",
      "336881 75011 \n",
      "[1] \"Oceania\"\n",
      "* Reading input file(s) *\n",
      "Map info: 411892 markers declared for chromosome X .\n",
      "Haplotype input file in transposed format assumed.\n",
      "Alleles are being recoded according to fourth and fifth column of map file.\n",
      "* Filtering data *\n",
      "Discard haplotypes with less than 100 % of genotyped markers.\n",
      "No haplotype discarded.\n",
      "Discard markers genotyped on less than 100 % of haplotypes.\n",
      "No marker discarded.\n",
      "Data consists of 12 haplotypes and 411892 markers.\n",
      "Number of mono-, bi-, multi-allelic markers:\n",
      "1 2 \n",
      "334611 77281 \n"
     ]
    }
   ],
   "source": [
    "# data2haplohh converts data from input file to an object of class haplohh\n",
    "\n",
    "print(\"Africa\")\n",
    "hap_AF <-data2haplohh(hap_file=\"genotypes_AF\",\n",
    "                      map_file=\"snps_filtered.txt\",\n",
    "                      allele_coding=\"map\", \n",
    "                      min_perc_geno.mrk=100,\n",
    "                      min_perc_geno.hap=100,\n",
    "                      haplotype.in.columns=TRUE,\n",
    "                      chr.name=\"X\")\n",
    "\n",
    "print(\"West Eurasia\")\n",
    "hap_WE <-data2haplohh(hap_file=\"genotypes_WE\",\n",
    "                      map_file=\"snps_filtered.txt\",\n",
    "                      allele_coding=\"map\", \n",
    "                      min_perc_geno.mrk=100,\n",
    "                      min_perc_geno.hap=100,\n",
    "                      haplotype.in.columns=TRUE,\n",
    "                      chr.name=\"X\")\n",
    "\n",
    "print(\"East Asia\")\n",
    "hap_EA <-data2haplohh(hap_file=\"genotypes_EA\",\n",
    "                      map_file=\"snps_filtered.txt\",\n",
    "                      allele_coding=\"map\", \n",
    "                      min_perc_geno.mrk=100,\n",
    "                      min_perc_geno.hap=100,\n",
    "                      haplotype.in.columns=TRUE,\n",
    "                      chr.name=\"X\")\n",
    "\n",
    "print(\"South Asia\")\n",
    "hap_SA <-data2haplohh(hap_file=\"genotypes_SA\",\n",
    "                      map_file=\"snps_filtered.txt\",\n",
    "                      allele_coding=\"map\", \n",
    "                      min_perc_geno.mrk=100,\n",
    "                      min_perc_geno.hap=100,\n",
    "                      haplotype.in.columns=TRUE,\n",
    "                      chr.name=\"X\")\n",
    "\n",
    "print(\"America\")\n",
    "hap_AM <-data2haplohh(hap_file=\"genotypes_AM\",\n",
    "                      map_file=\"snps_filtered.txt\",\n",
    "                      allele_coding=\"map\", \n",
    "                      min_perc_geno.mrk=100,\n",
    "                      min_perc_geno.hap=100,\n",
    "                      haplotype.in.columns=TRUE,\n",
    "                      chr.name=\"X\")\n",
    "\n",
    "print(\"Central Asia Siberia\")\n",
    "hap_CAS <-data2haplohh(hap_file=\"genotypes_CAS\",\n",
    "                      map_file=\"snps_filtered.txt\",\n",
    "                      allele_coding=\"map\", \n",
    "                      min_perc_geno.mrk=100,\n",
    "                      min_perc_geno.hap=100,\n",
    "                      haplotype.in.columns=TRUE,\n",
    "                      chr.name=\"X\")\n",
    "\n",
    "print(\"Oceania\")\n",
    "hap_O <-data2haplohh(hap_file=\"genotypes_O\",\n",
    "                      map_file=\"snps_filtered.txt\",\n",
    "                      allele_coding=\"map\", \n",
    "                      min_perc_geno.mrk=100,\n",
    "                      min_perc_geno.hap=100,\n",
    "                      haplotype.in.columns=TRUE,\n",
    "                      chr.name=\"X\")"
   ]
  },
  {
   "cell_type": "code",
   "execution_count": 7,
   "id": "framed-nicaragua",
   "metadata": {},
   "outputs": [
    {
     "name": "stdout",
     "output_type": "stream",
     "text": [
      "[1] \"Africa\"\n"
     ]
    },
    {
     "data": {
      "text/html": [
       "<table class=\"dataframe\">\n",
       "<caption>A data.frame: 6 × 10</caption>\n",
       "<thead>\n",
       "\t<tr><th></th><th scope=col>CHR</th><th scope=col>POSITION</th><th scope=col>FREQ_A</th><th scope=col>FREQ_D</th><th scope=col>NHAPLO_A</th><th scope=col>NHAPLO_D</th><th scope=col>IHH_A</th><th scope=col>IHH_D</th><th scope=col>IES</th><th scope=col>INES</th></tr>\n",
       "\t<tr><th></th><th scope=col>&lt;chr&gt;</th><th scope=col>&lt;dbl&gt;</th><th scope=col>&lt;dbl&gt;</th><th scope=col>&lt;dbl&gt;</th><th scope=col>&lt;int&gt;</th><th scope=col>&lt;int&gt;</th><th scope=col>&lt;dbl&gt;</th><th scope=col>&lt;dbl&gt;</th><th scope=col>&lt;dbl&gt;</th><th scope=col>&lt;dbl&gt;</th></tr>\n",
       "</thead>\n",
       "<tbody>\n",
       "\t<tr><th scope=row>X:X_365712</th><td>X</td><td>365712</td><td>1.00000000</td><td>0.00000000</td><td>21</td><td> 0</td><td>NA</td><td> 0</td><td>NA</td><td>NA</td></tr>\n",
       "\t<tr><th scope=row>X:X_400000</th><td>X</td><td>400000</td><td>0.95238095</td><td>0.04761905</td><td>20</td><td> 1</td><td>NA</td><td> 0</td><td>NA</td><td>NA</td></tr>\n",
       "\t<tr><th scope=row>X:X_400108</th><td>X</td><td>400108</td><td>0.04761905</td><td>0.95238095</td><td> 1</td><td>20</td><td> 0</td><td>NA</td><td>NA</td><td>NA</td></tr>\n",
       "\t<tr><th scope=row>X:X_400132</th><td>X</td><td>400132</td><td>0.76190476</td><td>0.23809524</td><td>16</td><td> 5</td><td>NA</td><td>NA</td><td>NA</td><td>NA</td></tr>\n",
       "\t<tr><th scope=row>X:X_400148</th><td>X</td><td>400148</td><td>1.00000000</td><td>0.00000000</td><td>21</td><td> 0</td><td>NA</td><td> 0</td><td>NA</td><td>NA</td></tr>\n",
       "\t<tr><th scope=row>X:X_400303</th><td>X</td><td>400303</td><td>0.61904762</td><td>0.38095238</td><td>13</td><td> 8</td><td>NA</td><td>NA</td><td>NA</td><td>NA</td></tr>\n",
       "</tbody>\n",
       "</table>\n"
      ],
      "text/latex": [
       "A data.frame: 6 × 10\n",
       "\\begin{tabular}{r|llllllllll}\n",
       "  & CHR & POSITION & FREQ\\_A & FREQ\\_D & NHAPLO\\_A & NHAPLO\\_D & IHH\\_A & IHH\\_D & IES & INES\\\\\n",
       "  & <chr> & <dbl> & <dbl> & <dbl> & <int> & <int> & <dbl> & <dbl> & <dbl> & <dbl>\\\\\n",
       "\\hline\n",
       "\tX:X\\_365712 & X & 365712 & 1.00000000 & 0.00000000 & 21 &  0 & NA &  0 & NA & NA\\\\\n",
       "\tX:X\\_400000 & X & 400000 & 0.95238095 & 0.04761905 & 20 &  1 & NA &  0 & NA & NA\\\\\n",
       "\tX:X\\_400108 & X & 400108 & 0.04761905 & 0.95238095 &  1 & 20 &  0 & NA & NA & NA\\\\\n",
       "\tX:X\\_400132 & X & 400132 & 0.76190476 & 0.23809524 & 16 &  5 & NA & NA & NA & NA\\\\\n",
       "\tX:X\\_400148 & X & 400148 & 1.00000000 & 0.00000000 & 21 &  0 & NA &  0 & NA & NA\\\\\n",
       "\tX:X\\_400303 & X & 400303 & 0.61904762 & 0.38095238 & 13 &  8 & NA & NA & NA & NA\\\\\n",
       "\\end{tabular}\n"
      ],
      "text/markdown": [
       "\n",
       "A data.frame: 6 × 10\n",
       "\n",
       "| <!--/--> | CHR &lt;chr&gt; | POSITION &lt;dbl&gt; | FREQ_A &lt;dbl&gt; | FREQ_D &lt;dbl&gt; | NHAPLO_A &lt;int&gt; | NHAPLO_D &lt;int&gt; | IHH_A &lt;dbl&gt; | IHH_D &lt;dbl&gt; | IES &lt;dbl&gt; | INES &lt;dbl&gt; |\n",
       "|---|---|---|---|---|---|---|---|---|---|---|\n",
       "| X:X_365712 | X | 365712 | 1.00000000 | 0.00000000 | 21 |  0 | NA |  0 | NA | NA |\n",
       "| X:X_400000 | X | 400000 | 0.95238095 | 0.04761905 | 20 |  1 | NA |  0 | NA | NA |\n",
       "| X:X_400108 | X | 400108 | 0.04761905 | 0.95238095 |  1 | 20 |  0 | NA | NA | NA |\n",
       "| X:X_400132 | X | 400132 | 0.76190476 | 0.23809524 | 16 |  5 | NA | NA | NA | NA |\n",
       "| X:X_400148 | X | 400148 | 1.00000000 | 0.00000000 | 21 |  0 | NA |  0 | NA | NA |\n",
       "| X:X_400303 | X | 400303 | 0.61904762 | 0.38095238 | 13 |  8 | NA | NA | NA | NA |\n",
       "\n"
      ],
      "text/plain": [
       "           CHR POSITION FREQ_A     FREQ_D     NHAPLO_A NHAPLO_D IHH_A IHH_D IES\n",
       "X:X_365712 X   365712   1.00000000 0.00000000 21        0       NA     0    NA \n",
       "X:X_400000 X   400000   0.95238095 0.04761905 20        1       NA     0    NA \n",
       "X:X_400108 X   400108   0.04761905 0.95238095  1       20        0    NA    NA \n",
       "X:X_400132 X   400132   0.76190476 0.23809524 16        5       NA    NA    NA \n",
       "X:X_400148 X   400148   1.00000000 0.00000000 21        0       NA     0    NA \n",
       "X:X_400303 X   400303   0.61904762 0.38095238 13        8       NA    NA    NA \n",
       "           INES\n",
       "X:X_365712 NA  \n",
       "X:X_400000 NA  \n",
       "X:X_400108 NA  \n",
       "X:X_400132 NA  \n",
       "X:X_400148 NA  \n",
       "X:X_400303 NA  "
      ]
     },
     "metadata": {},
     "output_type": "display_data"
    },
    {
     "name": "stdout",
     "output_type": "stream",
     "text": [
      "[1] \"West Eurasia\"\n"
     ]
    },
    {
     "data": {
      "text/html": [
       "<table class=\"dataframe\">\n",
       "<caption>A data.frame: 6 × 10</caption>\n",
       "<thead>\n",
       "\t<tr><th></th><th scope=col>CHR</th><th scope=col>POSITION</th><th scope=col>FREQ_A</th><th scope=col>FREQ_D</th><th scope=col>NHAPLO_A</th><th scope=col>NHAPLO_D</th><th scope=col>IHH_A</th><th scope=col>IHH_D</th><th scope=col>IES</th><th scope=col>INES</th></tr>\n",
       "\t<tr><th></th><th scope=col>&lt;chr&gt;</th><th scope=col>&lt;dbl&gt;</th><th scope=col>&lt;dbl&gt;</th><th scope=col>&lt;dbl&gt;</th><th scope=col>&lt;int&gt;</th><th scope=col>&lt;int&gt;</th><th scope=col>&lt;dbl&gt;</th><th scope=col>&lt;dbl&gt;</th><th scope=col>&lt;dbl&gt;</th><th scope=col>&lt;dbl&gt;</th></tr>\n",
       "</thead>\n",
       "<tbody>\n",
       "\t<tr><th scope=row>X:X_365712</th><td>X</td><td>365712</td><td>1.0000000</td><td>0.0000000</td><td>44</td><td> 0</td><td>NA</td><td> 0</td><td>NA</td><td>NA</td></tr>\n",
       "\t<tr><th scope=row>X:X_400000</th><td>X</td><td>400000</td><td>1.0000000</td><td>0.0000000</td><td>44</td><td> 0</td><td>NA</td><td> 0</td><td>NA</td><td>NA</td></tr>\n",
       "\t<tr><th scope=row>X:X_400108</th><td>X</td><td>400108</td><td>0.7500000</td><td>0.2500000</td><td>33</td><td>11</td><td>NA</td><td>NA</td><td>NA</td><td>NA</td></tr>\n",
       "\t<tr><th scope=row>X:X_400132</th><td>X</td><td>400132</td><td>1.0000000</td><td>0.0000000</td><td>44</td><td> 0</td><td>NA</td><td> 0</td><td>NA</td><td>NA</td></tr>\n",
       "\t<tr><th scope=row>X:X_400148</th><td>X</td><td>400148</td><td>1.0000000</td><td>0.0000000</td><td>44</td><td> 0</td><td>NA</td><td> 0</td><td>NA</td><td>NA</td></tr>\n",
       "\t<tr><th scope=row>X:X_400303</th><td>X</td><td>400303</td><td>0.3636364</td><td>0.6363636</td><td>16</td><td>28</td><td>NA</td><td>NA</td><td>NA</td><td>NA</td></tr>\n",
       "</tbody>\n",
       "</table>\n"
      ],
      "text/latex": [
       "A data.frame: 6 × 10\n",
       "\\begin{tabular}{r|llllllllll}\n",
       "  & CHR & POSITION & FREQ\\_A & FREQ\\_D & NHAPLO\\_A & NHAPLO\\_D & IHH\\_A & IHH\\_D & IES & INES\\\\\n",
       "  & <chr> & <dbl> & <dbl> & <dbl> & <int> & <int> & <dbl> & <dbl> & <dbl> & <dbl>\\\\\n",
       "\\hline\n",
       "\tX:X\\_365712 & X & 365712 & 1.0000000 & 0.0000000 & 44 &  0 & NA &  0 & NA & NA\\\\\n",
       "\tX:X\\_400000 & X & 400000 & 1.0000000 & 0.0000000 & 44 &  0 & NA &  0 & NA & NA\\\\\n",
       "\tX:X\\_400108 & X & 400108 & 0.7500000 & 0.2500000 & 33 & 11 & NA & NA & NA & NA\\\\\n",
       "\tX:X\\_400132 & X & 400132 & 1.0000000 & 0.0000000 & 44 &  0 & NA &  0 & NA & NA\\\\\n",
       "\tX:X\\_400148 & X & 400148 & 1.0000000 & 0.0000000 & 44 &  0 & NA &  0 & NA & NA\\\\\n",
       "\tX:X\\_400303 & X & 400303 & 0.3636364 & 0.6363636 & 16 & 28 & NA & NA & NA & NA\\\\\n",
       "\\end{tabular}\n"
      ],
      "text/markdown": [
       "\n",
       "A data.frame: 6 × 10\n",
       "\n",
       "| <!--/--> | CHR &lt;chr&gt; | POSITION &lt;dbl&gt; | FREQ_A &lt;dbl&gt; | FREQ_D &lt;dbl&gt; | NHAPLO_A &lt;int&gt; | NHAPLO_D &lt;int&gt; | IHH_A &lt;dbl&gt; | IHH_D &lt;dbl&gt; | IES &lt;dbl&gt; | INES &lt;dbl&gt; |\n",
       "|---|---|---|---|---|---|---|---|---|---|---|\n",
       "| X:X_365712 | X | 365712 | 1.0000000 | 0.0000000 | 44 |  0 | NA |  0 | NA | NA |\n",
       "| X:X_400000 | X | 400000 | 1.0000000 | 0.0000000 | 44 |  0 | NA |  0 | NA | NA |\n",
       "| X:X_400108 | X | 400108 | 0.7500000 | 0.2500000 | 33 | 11 | NA | NA | NA | NA |\n",
       "| X:X_400132 | X | 400132 | 1.0000000 | 0.0000000 | 44 |  0 | NA |  0 | NA | NA |\n",
       "| X:X_400148 | X | 400148 | 1.0000000 | 0.0000000 | 44 |  0 | NA |  0 | NA | NA |\n",
       "| X:X_400303 | X | 400303 | 0.3636364 | 0.6363636 | 16 | 28 | NA | NA | NA | NA |\n",
       "\n"
      ],
      "text/plain": [
       "           CHR POSITION FREQ_A    FREQ_D    NHAPLO_A NHAPLO_D IHH_A IHH_D IES\n",
       "X:X_365712 X   365712   1.0000000 0.0000000 44        0       NA     0    NA \n",
       "X:X_400000 X   400000   1.0000000 0.0000000 44        0       NA     0    NA \n",
       "X:X_400108 X   400108   0.7500000 0.2500000 33       11       NA    NA    NA \n",
       "X:X_400132 X   400132   1.0000000 0.0000000 44        0       NA     0    NA \n",
       "X:X_400148 X   400148   1.0000000 0.0000000 44        0       NA     0    NA \n",
       "X:X_400303 X   400303   0.3636364 0.6363636 16       28       NA    NA    NA \n",
       "           INES\n",
       "X:X_365712 NA  \n",
       "X:X_400000 NA  \n",
       "X:X_400108 NA  \n",
       "X:X_400132 NA  \n",
       "X:X_400148 NA  \n",
       "X:X_400303 NA  "
      ]
     },
     "metadata": {},
     "output_type": "display_data"
    },
    {
     "name": "stdout",
     "output_type": "stream",
     "text": [
      "[1] \"East Asia\"\n",
      "[1] \"South Asia\"\n",
      "[1] \"America\"\n",
      "[1] \"CentralAsiaSiberia\"\n",
      "[1] \"Oceania\"\n"
     ]
    }
   ],
   "source": [
    "# calculate allele frequencies using scan_hh\n",
    "\n",
    "#we give scan_hh the genotype data and map data (position)\n",
    "#and then we calculate the frequencies of the A and D alleles, IHH. \n",
    "\n",
    "print(\"Africa\")\n",
    "res_scan_AF <- scan_hh(hap_AF)\n",
    "write_delim(res_scan_AF, \"res_scan_AF.csv\", delim = \"\\t\")\n",
    "head(res_scan_AF)\n",
    "\n",
    "print(\"West Eurasia\")\n",
    "res_scan_WE <- scan_hh(hap_WE)\n",
    "write_delim(res_scan_WE, \"res_scan_WE.csv\", delim = \"\\t\")\n",
    "head(res_scan_WE)\n",
    "\n",
    "print(\"East Asia\")\n",
    "res_scan_EA <- scan_hh(hap_EA)\n",
    "write_delim(res_scan_EA, \"res_scan_EA.csv\", delim = \"\\t\")\n",
    "\n",
    "print(\"South Asia\")\n",
    "res_scan_SA <- scan_hh(hap_SA)\n",
    "write_delim(res_scan_SA, \"res_scan_SA.csv\", delim = \"\\t\")\n",
    "\n",
    "print(\"America\")\n",
    "res_scan_AM <- scan_hh(hap_AM)\n",
    "write_delim(res_scan_AM, \"res_scan_AM.csv\", delim = \"\\t\")\n",
    "\n",
    "print(\"CentralAsiaSiberia\")\n",
    "res_scan_CAS <- scan_hh(hap_CAS)\n",
    "write_delim(res_scan_CAS, \"res_scan_CAS.csv\", delim = \"\\t\")\n",
    "\n",
    "print(\"Oceania\")\n",
    "res_scan_O <- scan_hh(hap_O)\n",
    "write_delim(res_scan_O, \"res_scan_O.csv\", delim = \"\\t\")"
   ]
  },
  {
   "cell_type": "code",
   "execution_count": 4,
   "id": "angry-travel",
   "metadata": {},
   "outputs": [
    {
     "data": {
      "text/html": [
       "<table class=\"dataframe\">\n",
       "<caption>A data.frame: 6 × 10</caption>\n",
       "<thead>\n",
       "\t<tr><th></th><th scope=col>CHR</th><th scope=col>POSITION</th><th scope=col>FREQ_A</th><th scope=col>FREQ_D</th><th scope=col>NHAPLO_A</th><th scope=col>NHAPLO_D</th><th scope=col>IHH_A</th><th scope=col>IHH_D</th><th scope=col>IES</th><th scope=col>INES</th></tr>\n",
       "\t<tr><th></th><th scope=col>&lt;chr&gt;</th><th scope=col>&lt;int&gt;</th><th scope=col>&lt;dbl&gt;</th><th scope=col>&lt;dbl&gt;</th><th scope=col>&lt;int&gt;</th><th scope=col>&lt;int&gt;</th><th scope=col>&lt;dbl&gt;</th><th scope=col>&lt;dbl&gt;</th><th scope=col>&lt;dbl&gt;</th><th scope=col>&lt;dbl&gt;</th></tr>\n",
       "</thead>\n",
       "<tbody>\n",
       "\t<tr><th scope=row>1</th><td>X</td><td>365712</td><td>1.00000000</td><td>0.00000000</td><td>21</td><td> 0</td><td>NA</td><td> 0</td><td>NA</td><td>NA</td></tr>\n",
       "\t<tr><th scope=row>2</th><td>X</td><td>400000</td><td>0.95238095</td><td>0.04761905</td><td>20</td><td> 1</td><td>NA</td><td> 0</td><td>NA</td><td>NA</td></tr>\n",
       "\t<tr><th scope=row>3</th><td>X</td><td>400108</td><td>0.04761905</td><td>0.95238095</td><td> 1</td><td>20</td><td> 0</td><td>NA</td><td>NA</td><td>NA</td></tr>\n",
       "\t<tr><th scope=row>4</th><td>X</td><td>400132</td><td>0.76190476</td><td>0.23809524</td><td>16</td><td> 5</td><td>NA</td><td>NA</td><td>NA</td><td>NA</td></tr>\n",
       "\t<tr><th scope=row>5</th><td>X</td><td>400148</td><td>1.00000000</td><td>0.00000000</td><td>21</td><td> 0</td><td>NA</td><td> 0</td><td>NA</td><td>NA</td></tr>\n",
       "\t<tr><th scope=row>6</th><td>X</td><td>400303</td><td>0.61904762</td><td>0.38095238</td><td>13</td><td> 8</td><td>NA</td><td>NA</td><td>NA</td><td>NA</td></tr>\n",
       "</tbody>\n",
       "</table>\n"
      ],
      "text/latex": [
       "A data.frame: 6 × 10\n",
       "\\begin{tabular}{r|llllllllll}\n",
       "  & CHR & POSITION & FREQ\\_A & FREQ\\_D & NHAPLO\\_A & NHAPLO\\_D & IHH\\_A & IHH\\_D & IES & INES\\\\\n",
       "  & <chr> & <int> & <dbl> & <dbl> & <int> & <int> & <dbl> & <dbl> & <dbl> & <dbl>\\\\\n",
       "\\hline\n",
       "\t1 & X & 365712 & 1.00000000 & 0.00000000 & 21 &  0 & NA &  0 & NA & NA\\\\\n",
       "\t2 & X & 400000 & 0.95238095 & 0.04761905 & 20 &  1 & NA &  0 & NA & NA\\\\\n",
       "\t3 & X & 400108 & 0.04761905 & 0.95238095 &  1 & 20 &  0 & NA & NA & NA\\\\\n",
       "\t4 & X & 400132 & 0.76190476 & 0.23809524 & 16 &  5 & NA & NA & NA & NA\\\\\n",
       "\t5 & X & 400148 & 1.00000000 & 0.00000000 & 21 &  0 & NA &  0 & NA & NA\\\\\n",
       "\t6 & X & 400303 & 0.61904762 & 0.38095238 & 13 &  8 & NA & NA & NA & NA\\\\\n",
       "\\end{tabular}\n"
      ],
      "text/markdown": [
       "\n",
       "A data.frame: 6 × 10\n",
       "\n",
       "| <!--/--> | CHR &lt;chr&gt; | POSITION &lt;int&gt; | FREQ_A &lt;dbl&gt; | FREQ_D &lt;dbl&gt; | NHAPLO_A &lt;int&gt; | NHAPLO_D &lt;int&gt; | IHH_A &lt;dbl&gt; | IHH_D &lt;dbl&gt; | IES &lt;dbl&gt; | INES &lt;dbl&gt; |\n",
       "|---|---|---|---|---|---|---|---|---|---|---|\n",
       "| 1 | X | 365712 | 1.00000000 | 0.00000000 | 21 |  0 | NA |  0 | NA | NA |\n",
       "| 2 | X | 400000 | 0.95238095 | 0.04761905 | 20 |  1 | NA |  0 | NA | NA |\n",
       "| 3 | X | 400108 | 0.04761905 | 0.95238095 |  1 | 20 |  0 | NA | NA | NA |\n",
       "| 4 | X | 400132 | 0.76190476 | 0.23809524 | 16 |  5 | NA | NA | NA | NA |\n",
       "| 5 | X | 400148 | 1.00000000 | 0.00000000 | 21 |  0 | NA |  0 | NA | NA |\n",
       "| 6 | X | 400303 | 0.61904762 | 0.38095238 | 13 |  8 | NA | NA | NA | NA |\n",
       "\n"
      ],
      "text/plain": [
       "  CHR POSITION FREQ_A     FREQ_D     NHAPLO_A NHAPLO_D IHH_A IHH_D IES INES\n",
       "1 X   365712   1.00000000 0.00000000 21        0       NA     0    NA  NA  \n",
       "2 X   400000   0.95238095 0.04761905 20        1       NA     0    NA  NA  \n",
       "3 X   400108   0.04761905 0.95238095  1       20        0    NA    NA  NA  \n",
       "4 X   400132   0.76190476 0.23809524 16        5       NA    NA    NA  NA  \n",
       "5 X   400148   1.00000000 0.00000000 21        0       NA     0    NA  NA  \n",
       "6 X   400303   0.61904762 0.38095238 13        8       NA    NA    NA  NA  "
      ]
     },
     "metadata": {},
     "output_type": "display_data"
    }
   ],
   "source": [
    "res_scan_AF  <- read.csv(\"res_scan_AF.csv\", sep = \"\\t\", header = TRUE)\n",
    "res_scan_WE  <- read.csv(\"res_scan_WE.csv\", sep = \"\\t\", header = TRUE)\n",
    "res_scan_EA  <- read.csv(\"res_scan_EA.csv\", sep = \"\\t\", header = TRUE)\n",
    "res_scan_SA  <- read.csv(\"res_scan_SA.csv\", sep = \"\\t\", header = TRUE)\n",
    "res_scan_AM  <- read.csv(\"res_scan_AM.csv\", sep = \"\\t\", header = TRUE)\n",
    "res_scan_CAS  <- read.csv(\"res_scan_CAS.csv\", sep = \"\\t\", header = TRUE)\n",
    "res_scan_O  <- read.csv(\"res_scan_O.csv\", sep = \"\\t\", header = TRUE)\n",
    "head(res_scan_AF)"
   ]
  },
  {
   "cell_type": "code",
   "execution_count": 5,
   "id": "enclosed-protection",
   "metadata": {},
   "outputs": [
    {
     "data": {
      "text/html": [
       "<table class=\"dataframe\">\n",
       "<caption>A data.frame: 6 × 11</caption>\n",
       "<thead>\n",
       "\t<tr><th></th><th scope=col>CHR</th><th scope=col>POSITION</th><th scope=col>FREQ_A</th><th scope=col>FREQ_D</th><th scope=col>NHAPLO_A</th><th scope=col>NHAPLO_D</th><th scope=col>IHH_A</th><th scope=col>IHH_D</th><th scope=col>IES</th><th scope=col>INES</th><th scope=col>region</th></tr>\n",
       "\t<tr><th></th><th scope=col>&lt;chr&gt;</th><th scope=col>&lt;int&gt;</th><th scope=col>&lt;dbl&gt;</th><th scope=col>&lt;dbl&gt;</th><th scope=col>&lt;int&gt;</th><th scope=col>&lt;int&gt;</th><th scope=col>&lt;dbl&gt;</th><th scope=col>&lt;dbl&gt;</th><th scope=col>&lt;dbl&gt;</th><th scope=col>&lt;dbl&gt;</th><th scope=col>&lt;chr&gt;</th></tr>\n",
       "</thead>\n",
       "<tbody>\n",
       "\t<tr><th scope=row>1</th><td>X</td><td>365712</td><td>1.00000000</td><td>0.00000000</td><td>21</td><td> 0</td><td>NA</td><td> 0</td><td>NA</td><td>NA</td><td>Africa</td></tr>\n",
       "\t<tr><th scope=row>2</th><td>X</td><td>400000</td><td>0.95238095</td><td>0.04761905</td><td>20</td><td> 1</td><td>NA</td><td> 0</td><td>NA</td><td>NA</td><td>Africa</td></tr>\n",
       "\t<tr><th scope=row>3</th><td>X</td><td>400108</td><td>0.04761905</td><td>0.95238095</td><td> 1</td><td>20</td><td> 0</td><td>NA</td><td>NA</td><td>NA</td><td>Africa</td></tr>\n",
       "\t<tr><th scope=row>4</th><td>X</td><td>400132</td><td>0.76190476</td><td>0.23809524</td><td>16</td><td> 5</td><td>NA</td><td>NA</td><td>NA</td><td>NA</td><td>Africa</td></tr>\n",
       "\t<tr><th scope=row>5</th><td>X</td><td>400148</td><td>1.00000000</td><td>0.00000000</td><td>21</td><td> 0</td><td>NA</td><td> 0</td><td>NA</td><td>NA</td><td>Africa</td></tr>\n",
       "\t<tr><th scope=row>6</th><td>X</td><td>400303</td><td>0.61904762</td><td>0.38095238</td><td>13</td><td> 8</td><td>NA</td><td>NA</td><td>NA</td><td>NA</td><td>Africa</td></tr>\n",
       "</tbody>\n",
       "</table>\n"
      ],
      "text/latex": [
       "A data.frame: 6 × 11\n",
       "\\begin{tabular}{r|lllllllllll}\n",
       "  & CHR & POSITION & FREQ\\_A & FREQ\\_D & NHAPLO\\_A & NHAPLO\\_D & IHH\\_A & IHH\\_D & IES & INES & region\\\\\n",
       "  & <chr> & <int> & <dbl> & <dbl> & <int> & <int> & <dbl> & <dbl> & <dbl> & <dbl> & <chr>\\\\\n",
       "\\hline\n",
       "\t1 & X & 365712 & 1.00000000 & 0.00000000 & 21 &  0 & NA &  0 & NA & NA & Africa\\\\\n",
       "\t2 & X & 400000 & 0.95238095 & 0.04761905 & 20 &  1 & NA &  0 & NA & NA & Africa\\\\\n",
       "\t3 & X & 400108 & 0.04761905 & 0.95238095 &  1 & 20 &  0 & NA & NA & NA & Africa\\\\\n",
       "\t4 & X & 400132 & 0.76190476 & 0.23809524 & 16 &  5 & NA & NA & NA & NA & Africa\\\\\n",
       "\t5 & X & 400148 & 1.00000000 & 0.00000000 & 21 &  0 & NA &  0 & NA & NA & Africa\\\\\n",
       "\t6 & X & 400303 & 0.61904762 & 0.38095238 & 13 &  8 & NA & NA & NA & NA & Africa\\\\\n",
       "\\end{tabular}\n"
      ],
      "text/markdown": [
       "\n",
       "A data.frame: 6 × 11\n",
       "\n",
       "| <!--/--> | CHR &lt;chr&gt; | POSITION &lt;int&gt; | FREQ_A &lt;dbl&gt; | FREQ_D &lt;dbl&gt; | NHAPLO_A &lt;int&gt; | NHAPLO_D &lt;int&gt; | IHH_A &lt;dbl&gt; | IHH_D &lt;dbl&gt; | IES &lt;dbl&gt; | INES &lt;dbl&gt; | region &lt;chr&gt; |\n",
       "|---|---|---|---|---|---|---|---|---|---|---|---|\n",
       "| 1 | X | 365712 | 1.00000000 | 0.00000000 | 21 |  0 | NA |  0 | NA | NA | Africa |\n",
       "| 2 | X | 400000 | 0.95238095 | 0.04761905 | 20 |  1 | NA |  0 | NA | NA | Africa |\n",
       "| 3 | X | 400108 | 0.04761905 | 0.95238095 |  1 | 20 |  0 | NA | NA | NA | Africa |\n",
       "| 4 | X | 400132 | 0.76190476 | 0.23809524 | 16 |  5 | NA | NA | NA | NA | Africa |\n",
       "| 5 | X | 400148 | 1.00000000 | 0.00000000 | 21 |  0 | NA |  0 | NA | NA | Africa |\n",
       "| 6 | X | 400303 | 0.61904762 | 0.38095238 | 13 |  8 | NA | NA | NA | NA | Africa |\n",
       "\n"
      ],
      "text/plain": [
       "  CHR POSITION FREQ_A     FREQ_D     NHAPLO_A NHAPLO_D IHH_A IHH_D IES INES\n",
       "1 X   365712   1.00000000 0.00000000 21        0       NA     0    NA  NA  \n",
       "2 X   400000   0.95238095 0.04761905 20        1       NA     0    NA  NA  \n",
       "3 X   400108   0.04761905 0.95238095  1       20        0    NA    NA  NA  \n",
       "4 X   400132   0.76190476 0.23809524 16        5       NA    NA    NA  NA  \n",
       "5 X   400148   1.00000000 0.00000000 21        0       NA     0    NA  NA  \n",
       "6 X   400303   0.61904762 0.38095238 13        8       NA    NA    NA  NA  \n",
       "  region\n",
       "1 Africa\n",
       "2 Africa\n",
       "3 Africa\n",
       "4 Africa\n",
       "5 Africa\n",
       "6 Africa"
      ]
     },
     "metadata": {},
     "output_type": "display_data"
    }
   ],
   "source": [
    "# combine data\n",
    "\n",
    "res_scan_AF <- res_scan_AF %>% mutate(region = rep(\"Africa\", nrow(res_scan_AF)))\n",
    "res_scan_WE <- res_scan_WE %>% mutate(region = rep(\"WestEurasia\", nrow(res_scan_WE)))\n",
    "res_scan_EA <- res_scan_EA %>% mutate(region = rep(\"EastAsia\", nrow(res_scan_EA)))\n",
    "res_scan_SA <- res_scan_SA %>% mutate(region = rep(\"SouthAsia\", nrow(res_scan_SA)))\n",
    "res_scan_AM <- res_scan_AM %>% mutate(region = rep(\"America\", nrow(res_scan_AM)))\n",
    "res_scan_CAS <- res_scan_CAS %>% mutate(region = rep(\"CentralAsiaSiberia\", nrow(res_scan_CAS)))\n",
    "res_scan_O <- res_scan_O %>% mutate(region = rep(\"Oceania\", nrow(res_scan_O)))\n",
    "\n",
    "res_scan  <- bind_rows(res_scan_AF, res_scan_WE, res_scan_EA, res_scan_SA, res_scan_AM, res_scan_CAS, res_scan_O)\n",
    "head(res_scan)"
   ]
  },
  {
   "cell_type": "code",
   "execution_count": 6,
   "id": "rural-bread",
   "metadata": {},
   "outputs": [
    {
     "data": {
      "text/html": [
       "<table class=\"dataframe\">\n",
       "<caption>A data.frame: 6 × 11</caption>\n",
       "<thead>\n",
       "\t<tr><th></th><th scope=col>CHR</th><th scope=col>POSITION</th><th scope=col>FREQ_A</th><th scope=col>FREQ_D</th><th scope=col>NHAPLO_A</th><th scope=col>NHAPLO_D</th><th scope=col>IHH_A</th><th scope=col>IHH_D</th><th scope=col>IES</th><th scope=col>INES</th><th scope=col>region</th></tr>\n",
       "\t<tr><th></th><th scope=col>&lt;chr&gt;</th><th scope=col>&lt;int&gt;</th><th scope=col>&lt;dbl&gt;</th><th scope=col>&lt;dbl&gt;</th><th scope=col>&lt;int&gt;</th><th scope=col>&lt;int&gt;</th><th scope=col>&lt;dbl&gt;</th><th scope=col>&lt;dbl&gt;</th><th scope=col>&lt;dbl&gt;</th><th scope=col>&lt;dbl&gt;</th><th scope=col>&lt;chr&gt;</th></tr>\n",
       "</thead>\n",
       "<tbody>\n",
       "\t<tr><th scope=row>1</th><td>X</td><td>365712</td><td>1.00000000</td><td>0.00000000</td><td>21</td><td> 0</td><td>NA</td><td> 0</td><td>NA</td><td>NA</td><td>Africa</td></tr>\n",
       "\t<tr><th scope=row>2</th><td>X</td><td>400000</td><td>0.95238095</td><td>0.04761905</td><td>20</td><td> 1</td><td>NA</td><td> 0</td><td>NA</td><td>NA</td><td>Africa</td></tr>\n",
       "\t<tr><th scope=row>3</th><td>X</td><td>400108</td><td>0.04761905</td><td>0.95238095</td><td> 1</td><td>20</td><td> 0</td><td>NA</td><td>NA</td><td>NA</td><td>Africa</td></tr>\n",
       "\t<tr><th scope=row>4</th><td>X</td><td>400132</td><td>0.76190476</td><td>0.23809524</td><td>16</td><td> 5</td><td>NA</td><td>NA</td><td>NA</td><td>NA</td><td>Africa</td></tr>\n",
       "\t<tr><th scope=row>5</th><td>X</td><td>400148</td><td>1.00000000</td><td>0.00000000</td><td>21</td><td> 0</td><td>NA</td><td> 0</td><td>NA</td><td>NA</td><td>Africa</td></tr>\n",
       "\t<tr><th scope=row>6</th><td>X</td><td>400303</td><td>0.61904762</td><td>0.38095238</td><td>13</td><td> 8</td><td>NA</td><td>NA</td><td>NA</td><td>NA</td><td>Africa</td></tr>\n",
       "</tbody>\n",
       "</table>\n"
      ],
      "text/latex": [
       "A data.frame: 6 × 11\n",
       "\\begin{tabular}{r|lllllllllll}\n",
       "  & CHR & POSITION & FREQ\\_A & FREQ\\_D & NHAPLO\\_A & NHAPLO\\_D & IHH\\_A & IHH\\_D & IES & INES & region\\\\\n",
       "  & <chr> & <int> & <dbl> & <dbl> & <int> & <int> & <dbl> & <dbl> & <dbl> & <dbl> & <chr>\\\\\n",
       "\\hline\n",
       "\t1 & X & 365712 & 1.00000000 & 0.00000000 & 21 &  0 & NA &  0 & NA & NA & Africa\\\\\n",
       "\t2 & X & 400000 & 0.95238095 & 0.04761905 & 20 &  1 & NA &  0 & NA & NA & Africa\\\\\n",
       "\t3 & X & 400108 & 0.04761905 & 0.95238095 &  1 & 20 &  0 & NA & NA & NA & Africa\\\\\n",
       "\t4 & X & 400132 & 0.76190476 & 0.23809524 & 16 &  5 & NA & NA & NA & NA & Africa\\\\\n",
       "\t5 & X & 400148 & 1.00000000 & 0.00000000 & 21 &  0 & NA &  0 & NA & NA & Africa\\\\\n",
       "\t6 & X & 400303 & 0.61904762 & 0.38095238 & 13 &  8 & NA & NA & NA & NA & Africa\\\\\n",
       "\\end{tabular}\n"
      ],
      "text/markdown": [
       "\n",
       "A data.frame: 6 × 11\n",
       "\n",
       "| <!--/--> | CHR &lt;chr&gt; | POSITION &lt;int&gt; | FREQ_A &lt;dbl&gt; | FREQ_D &lt;dbl&gt; | NHAPLO_A &lt;int&gt; | NHAPLO_D &lt;int&gt; | IHH_A &lt;dbl&gt; | IHH_D &lt;dbl&gt; | IES &lt;dbl&gt; | INES &lt;dbl&gt; | region &lt;chr&gt; |\n",
       "|---|---|---|---|---|---|---|---|---|---|---|---|\n",
       "| 1 | X | 365712 | 1.00000000 | 0.00000000 | 21 |  0 | NA |  0 | NA | NA | Africa |\n",
       "| 2 | X | 400000 | 0.95238095 | 0.04761905 | 20 |  1 | NA |  0 | NA | NA | Africa |\n",
       "| 3 | X | 400108 | 0.04761905 | 0.95238095 |  1 | 20 |  0 | NA | NA | NA | Africa |\n",
       "| 4 | X | 400132 | 0.76190476 | 0.23809524 | 16 |  5 | NA | NA | NA | NA | Africa |\n",
       "| 5 | X | 400148 | 1.00000000 | 0.00000000 | 21 |  0 | NA |  0 | NA | NA | Africa |\n",
       "| 6 | X | 400303 | 0.61904762 | 0.38095238 | 13 |  8 | NA | NA | NA | NA | Africa |\n",
       "\n"
      ],
      "text/plain": [
       "  CHR POSITION FREQ_A     FREQ_D     NHAPLO_A NHAPLO_D IHH_A IHH_D IES INES\n",
       "1 X   365712   1.00000000 0.00000000 21        0       NA     0    NA  NA  \n",
       "2 X   400000   0.95238095 0.04761905 20        1       NA     0    NA  NA  \n",
       "3 X   400108   0.04761905 0.95238095  1       20        0    NA    NA  NA  \n",
       "4 X   400132   0.76190476 0.23809524 16        5       NA    NA    NA  NA  \n",
       "5 X   400148   1.00000000 0.00000000 21        0       NA     0    NA  NA  \n",
       "6 X   400303   0.61904762 0.38095238 13        8       NA    NA    NA  NA  \n",
       "  region\n",
       "1 Africa\n",
       "2 Africa\n",
       "3 Africa\n",
       "4 Africa\n",
       "5 Africa\n",
       "6 Africa"
      ]
     },
     "metadata": {},
     "output_type": "display_data"
    }
   ],
   "source": [
    "res_scan <- read.csv(\"res_scan_all_pop.csv\", sep = \"\\t\", header = TRUE)\n",
    "head(res_scan)"
   ]
  },
  {
   "cell_type": "markdown",
   "id": "leading-ontario",
   "metadata": {},
   "source": [
    "## Functions for calculating FST"
   ]
  },
  {
   "cell_type": "code",
   "execution_count": 7,
   "id": "prepared-strengthening",
   "metadata": {},
   "outputs": [],
   "source": [
    "FST_per_position <- function(res_scan, pops){\n",
    "    chr = NULL\n",
    "    snp_pos = NULL\n",
    "    H_S = NULL\n",
    "    H_T = NULL\n",
    "    FST = NULL\n",
    "    print(\"here\")\n",
    "    subset_pops <- res_scan %>% filter(region %in% pops)\n",
    "    \n",
    "    for (i in 1:(nrow(snps))){\n",
    "        chr[i] <- snps$chr[i]\n",
    "        snp_pos[i] <- snps$pos[i]\n",
    "        subset <- subset_pops %>% filter(POSITION == snp_pos[i])\n",
    "        H_S[i] <- mean(2*subset$FREQ_A*subset$FREQ_D)\n",
    "        H_T[i] <- 2*mean(subset$FREQ_A)*mean(subset$FREQ_D)\n",
    "        FST[i] <- (H_T[i] - H_S[i])/H_T[i]                              \n",
    "    }\n",
    "\n",
    "    Fst  <- tibble(chr =  chr,\n",
    "                   snp_pos = snp_pos, \n",
    "                   H_S = H_S, \n",
    "                   H_T = H_T, \n",
    "                   FST = FST)\n",
    "    return(Fst)\n",
    "}"
   ]
  },
  {
   "cell_type": "code",
   "execution_count": 8,
   "id": "diagnostic-sodium",
   "metadata": {},
   "outputs": [],
   "source": [
    "avg_FST_in_sliding_windows <- function(FST_file, pops, window_size = 100){\n",
    "    chr = NULL\n",
    "    first_snp_pos = NULL\n",
    "    last_snp_pos = NULL\n",
    "    avg_FST = NULL\n",
    "    print(\"here\")\n",
    "    ws_ = window_size - 1\n",
    "\n",
    "    for (i in 1:(nrow(FST_file) - ws_)){\n",
    "        chr[i] <- FST_file$chr[i]\n",
    "        first_snp_pos[i] <- FST_file$snp_pos[i]\n",
    "        last_snp_pos[i] <- FST_file$snp_pos[i + ws_]\n",
    "        subset <- FST_file %>% filter(between(snp_pos, first_snp_pos[i], last_snp_pos[i]))\n",
    "        avg_FST[i] <- mean(subset$FST)                              \n",
    "    }\n",
    "\n",
    "    Fst  <- tibble(chr =  chr,\n",
    "                   first_snp_pos = first_snp_pos, \n",
    "                   last_snp_pos = last_snp_pos, \n",
    "                   avg_FST)\n",
    "    return(Fst)\n",
    "}"
   ]
  },
  {
   "cell_type": "markdown",
   "id": "disciplinary-hello",
   "metadata": {},
   "source": [
    "## Calculating FST per position"
   ]
  },
  {
   "cell_type": "code",
   "execution_count": 12,
   "id": "later-observation",
   "metadata": {},
   "outputs": [
    {
     "name": "stdout",
     "output_type": "stream",
     "text": [
      "[1] \"Africa - WestEurasia\"\n",
      "[1] \"here\"\n"
     ]
    },
    {
     "data": {
      "text/html": [
       "<table class=\"dataframe\">\n",
       "<caption>A tibble: 6 × 5</caption>\n",
       "<thead>\n",
       "\t<tr><th scope=col>chr</th><th scope=col>snp_pos</th><th scope=col>H_S</th><th scope=col>H_T</th><th scope=col>FST</th></tr>\n",
       "\t<tr><th scope=col>&lt;chr&gt;</th><th scope=col>&lt;int&gt;</th><th scope=col>&lt;dbl&gt;</th><th scope=col>&lt;dbl&gt;</th><th scope=col>&lt;dbl&gt;</th></tr>\n",
       "</thead>\n",
       "<tbody>\n",
       "\t<tr><td>X</td><td>365712</td><td>0.00000000</td><td>0.00000000</td><td>       NaN</td></tr>\n",
       "\t<tr><td>X</td><td>400000</td><td>0.04535147</td><td>0.04648526</td><td>0.02439024</td></tr>\n",
       "\t<tr><td>X</td><td>400108</td><td>0.23285147</td><td>0.47952098</td><td>0.51440816</td></tr>\n",
       "\t<tr><td>X</td><td>400132</td><td>0.18140590</td><td>0.20975057</td><td>0.13513514</td></tr>\n",
       "\t<tr><td>X</td><td>400148</td><td>0.00000000</td><td>0.00000000</td><td>       NaN</td></tr>\n",
       "\t<tr><td>X</td><td>400303</td><td>0.46723262</td><td>0.49985008</td><td>0.06525448</td></tr>\n",
       "</tbody>\n",
       "</table>\n"
      ],
      "text/latex": [
       "A tibble: 6 × 5\n",
       "\\begin{tabular}{lllll}\n",
       " chr & snp\\_pos & H\\_S & H\\_T & FST\\\\\n",
       " <chr> & <int> & <dbl> & <dbl> & <dbl>\\\\\n",
       "\\hline\n",
       "\t X & 365712 & 0.00000000 & 0.00000000 &        NaN\\\\\n",
       "\t X & 400000 & 0.04535147 & 0.04648526 & 0.02439024\\\\\n",
       "\t X & 400108 & 0.23285147 & 0.47952098 & 0.51440816\\\\\n",
       "\t X & 400132 & 0.18140590 & 0.20975057 & 0.13513514\\\\\n",
       "\t X & 400148 & 0.00000000 & 0.00000000 &        NaN\\\\\n",
       "\t X & 400303 & 0.46723262 & 0.49985008 & 0.06525448\\\\\n",
       "\\end{tabular}\n"
      ],
      "text/markdown": [
       "\n",
       "A tibble: 6 × 5\n",
       "\n",
       "| chr &lt;chr&gt; | snp_pos &lt;int&gt; | H_S &lt;dbl&gt; | H_T &lt;dbl&gt; | FST &lt;dbl&gt; |\n",
       "|---|---|---|---|---|\n",
       "| X | 365712 | 0.00000000 | 0.00000000 |        NaN |\n",
       "| X | 400000 | 0.04535147 | 0.04648526 | 0.02439024 |\n",
       "| X | 400108 | 0.23285147 | 0.47952098 | 0.51440816 |\n",
       "| X | 400132 | 0.18140590 | 0.20975057 | 0.13513514 |\n",
       "| X | 400148 | 0.00000000 | 0.00000000 |        NaN |\n",
       "| X | 400303 | 0.46723262 | 0.49985008 | 0.06525448 |\n",
       "\n"
      ],
      "text/plain": [
       "  chr snp_pos H_S        H_T        FST       \n",
       "1 X   365712  0.00000000 0.00000000        NaN\n",
       "2 X   400000  0.04535147 0.04648526 0.02439024\n",
       "3 X   400108  0.23285147 0.47952098 0.51440816\n",
       "4 X   400132  0.18140590 0.20975057 0.13513514\n",
       "5 X   400148  0.00000000 0.00000000        NaN\n",
       "6 X   400303  0.46723262 0.49985008 0.06525448"
      ]
     },
     "metadata": {},
     "output_type": "display_data"
    },
    {
     "data": {
      "text/html": [
       "<style>\n",
       ".list-inline {list-style: none; margin:0; padding: 0}\n",
       ".list-inline>li {display: inline-block}\n",
       ".list-inline>li:not(:last-child)::after {content: \"\\00b7\"; padding: 0 .5ex}\n",
       "</style>\n",
       "<ol class=list-inline><li>1</li><li>5</li><li>8</li><li>13</li><li>19</li><li>22</li></ol>\n"
      ],
      "text/latex": [
       "\\begin{enumerate*}\n",
       "\\item 1\n",
       "\\item 5\n",
       "\\item 8\n",
       "\\item 13\n",
       "\\item 19\n",
       "\\item 22\n",
       "\\end{enumerate*}\n"
      ],
      "text/markdown": [
       "1. 1\n",
       "2. 5\n",
       "3. 8\n",
       "4. 13\n",
       "5. 19\n",
       "6. 22\n",
       "\n",
       "\n"
      ],
      "text/plain": [
       "[1]  1  5  8 13 19 22"
      ]
     },
     "metadata": {},
     "output_type": "display_data"
    },
    {
     "data": {
      "text/html": [
       "105192"
      ],
      "text/latex": [
       "105192"
      ],
      "text/markdown": [
       "105192"
      ],
      "text/plain": [
       "[1] 105192"
      ]
     },
     "metadata": {},
     "output_type": "display_data"
    },
    {
     "name": "stdout",
     "output_type": "stream",
     "text": [
      "[1] \"WestEurasia - EastAsia\"\n",
      "[1] \"here\"\n"
     ]
    },
    {
     "data": {
      "text/html": [
       "<table class=\"dataframe\">\n",
       "<caption>A tibble: 6 × 5</caption>\n",
       "<thead>\n",
       "\t<tr><th scope=col>chr</th><th scope=col>snp_pos</th><th scope=col>H_S</th><th scope=col>H_T</th><th scope=col>FST</th></tr>\n",
       "\t<tr><th scope=col>&lt;chr&gt;</th><th scope=col>&lt;int&gt;</th><th scope=col>&lt;dbl&gt;</th><th scope=col>&lt;dbl&gt;</th><th scope=col>&lt;dbl&gt;</th></tr>\n",
       "</thead>\n",
       "<tbody>\n",
       "\t<tr><td>X</td><td>365712</td><td>0.0000000</td><td>0.0000000</td><td>        NaN</td></tr>\n",
       "\t<tr><td>X</td><td>400000</td><td>0.0000000</td><td>0.0000000</td><td>        NaN</td></tr>\n",
       "\t<tr><td>X</td><td>400108</td><td>0.4097222</td><td>0.4131944</td><td>0.008403361</td></tr>\n",
       "\t<tr><td>X</td><td>400132</td><td>0.0000000</td><td>0.0000000</td><td>        NaN</td></tr>\n",
       "\t<tr><td>X</td><td>400148</td><td>0.0000000</td><td>0.0000000</td><td>        NaN</td></tr>\n",
       "\t<tr><td>X</td><td>400303</td><td>0.4657800</td><td>0.4999354</td><td>0.068319773</td></tr>\n",
       "</tbody>\n",
       "</table>\n"
      ],
      "text/latex": [
       "A tibble: 6 × 5\n",
       "\\begin{tabular}{lllll}\n",
       " chr & snp\\_pos & H\\_S & H\\_T & FST\\\\\n",
       " <chr> & <int> & <dbl> & <dbl> & <dbl>\\\\\n",
       "\\hline\n",
       "\t X & 365712 & 0.0000000 & 0.0000000 &         NaN\\\\\n",
       "\t X & 400000 & 0.0000000 & 0.0000000 &         NaN\\\\\n",
       "\t X & 400108 & 0.4097222 & 0.4131944 & 0.008403361\\\\\n",
       "\t X & 400132 & 0.0000000 & 0.0000000 &         NaN\\\\\n",
       "\t X & 400148 & 0.0000000 & 0.0000000 &         NaN\\\\\n",
       "\t X & 400303 & 0.4657800 & 0.4999354 & 0.068319773\\\\\n",
       "\\end{tabular}\n"
      ],
      "text/markdown": [
       "\n",
       "A tibble: 6 × 5\n",
       "\n",
       "| chr &lt;chr&gt; | snp_pos &lt;int&gt; | H_S &lt;dbl&gt; | H_T &lt;dbl&gt; | FST &lt;dbl&gt; |\n",
       "|---|---|---|---|---|\n",
       "| X | 365712 | 0.0000000 | 0.0000000 |         NaN |\n",
       "| X | 400000 | 0.0000000 | 0.0000000 |         NaN |\n",
       "| X | 400108 | 0.4097222 | 0.4131944 | 0.008403361 |\n",
       "| X | 400132 | 0.0000000 | 0.0000000 |         NaN |\n",
       "| X | 400148 | 0.0000000 | 0.0000000 |         NaN |\n",
       "| X | 400303 | 0.4657800 | 0.4999354 | 0.068319773 |\n",
       "\n"
      ],
      "text/plain": [
       "  chr snp_pos H_S       H_T       FST        \n",
       "1 X   365712  0.0000000 0.0000000         NaN\n",
       "2 X   400000  0.0000000 0.0000000         NaN\n",
       "3 X   400108  0.4097222 0.4131944 0.008403361\n",
       "4 X   400132  0.0000000 0.0000000         NaN\n",
       "5 X   400148  0.0000000 0.0000000         NaN\n",
       "6 X   400303  0.4657800 0.4999354 0.068319773"
      ]
     },
     "metadata": {},
     "output_type": "display_data"
    },
    {
     "data": {
      "text/html": [
       "<style>\n",
       ".list-inline {list-style: none; margin:0; padding: 0}\n",
       ".list-inline>li {display: inline-block}\n",
       ".list-inline>li:not(:last-child)::after {content: \"\\00b7\"; padding: 0 .5ex}\n",
       "</style>\n",
       "<ol class=list-inline><li>1</li><li>2</li><li>4</li><li>5</li><li>7</li><li>8</li></ol>\n"
      ],
      "text/latex": [
       "\\begin{enumerate*}\n",
       "\\item 1\n",
       "\\item 2\n",
       "\\item 4\n",
       "\\item 5\n",
       "\\item 7\n",
       "\\item 8\n",
       "\\end{enumerate*}\n"
      ],
      "text/markdown": [
       "1. 1\n",
       "2. 2\n",
       "3. 4\n",
       "4. 5\n",
       "5. 7\n",
       "6. 8\n",
       "\n",
       "\n"
      ],
      "text/plain": [
       "[1] 1 2 4 5 7 8"
      ]
     },
     "metadata": {},
     "output_type": "display_data"
    },
    {
     "data": {
      "text/html": [
       "222489"
      ],
      "text/latex": [
       "222489"
      ],
      "text/markdown": [
       "222489"
      ],
      "text/plain": [
       "[1] 222489"
      ]
     },
     "metadata": {},
     "output_type": "display_data"
    },
    {
     "name": "stdout",
     "output_type": "stream",
     "text": [
      "[1] \"EastAsia - Africa\"\n",
      "[1] \"here\"\n"
     ]
    },
    {
     "data": {
      "text/html": [
       "<table class=\"dataframe\">\n",
       "<caption>A tibble: 6 × 5</caption>\n",
       "<thead>\n",
       "\t<tr><th scope=col>chr</th><th scope=col>snp_pos</th><th scope=col>H_S</th><th scope=col>H_T</th><th scope=col>FST</th></tr>\n",
       "\t<tr><th scope=col>&lt;chr&gt;</th><th scope=col>&lt;int&gt;</th><th scope=col>&lt;dbl&gt;</th><th scope=col>&lt;dbl&gt;</th><th scope=col>&lt;dbl&gt;</th></tr>\n",
       "</thead>\n",
       "<tbody>\n",
       "\t<tr><td>X</td><td>365712</td><td>0.00000000</td><td>0.00000000</td><td>         NaN</td></tr>\n",
       "\t<tr><td>X</td><td>400000</td><td>0.04535147</td><td>0.04648526</td><td>2.439024e-02</td></tr>\n",
       "\t<tr><td>X</td><td>400108</td><td>0.26757370</td><td>0.45918367</td><td>4.172840e-01</td></tr>\n",
       "\t<tr><td>X</td><td>400132</td><td>0.18140590</td><td>0.20975057</td><td>1.351351e-01</td></tr>\n",
       "\t<tr><td>X</td><td>400148</td><td>0.00000000</td><td>0.00000000</td><td>         NaN</td></tr>\n",
       "\t<tr><td>X</td><td>400303</td><td>0.47020266</td><td>0.47022038</td><td>3.767472e-05</td></tr>\n",
       "</tbody>\n",
       "</table>\n"
      ],
      "text/latex": [
       "A tibble: 6 × 5\n",
       "\\begin{tabular}{lllll}\n",
       " chr & snp\\_pos & H\\_S & H\\_T & FST\\\\\n",
       " <chr> & <int> & <dbl> & <dbl> & <dbl>\\\\\n",
       "\\hline\n",
       "\t X & 365712 & 0.00000000 & 0.00000000 &          NaN\\\\\n",
       "\t X & 400000 & 0.04535147 & 0.04648526 & 2.439024e-02\\\\\n",
       "\t X & 400108 & 0.26757370 & 0.45918367 & 4.172840e-01\\\\\n",
       "\t X & 400132 & 0.18140590 & 0.20975057 & 1.351351e-01\\\\\n",
       "\t X & 400148 & 0.00000000 & 0.00000000 &          NaN\\\\\n",
       "\t X & 400303 & 0.47020266 & 0.47022038 & 3.767472e-05\\\\\n",
       "\\end{tabular}\n"
      ],
      "text/markdown": [
       "\n",
       "A tibble: 6 × 5\n",
       "\n",
       "| chr &lt;chr&gt; | snp_pos &lt;int&gt; | H_S &lt;dbl&gt; | H_T &lt;dbl&gt; | FST &lt;dbl&gt; |\n",
       "|---|---|---|---|---|\n",
       "| X | 365712 | 0.00000000 | 0.00000000 |          NaN |\n",
       "| X | 400000 | 0.04535147 | 0.04648526 | 2.439024e-02 |\n",
       "| X | 400108 | 0.26757370 | 0.45918367 | 4.172840e-01 |\n",
       "| X | 400132 | 0.18140590 | 0.20975057 | 1.351351e-01 |\n",
       "| X | 400148 | 0.00000000 | 0.00000000 |          NaN |\n",
       "| X | 400303 | 0.47020266 | 0.47022038 | 3.767472e-05 |\n",
       "\n"
      ],
      "text/plain": [
       "  chr snp_pos H_S        H_T        FST         \n",
       "1 X   365712  0.00000000 0.00000000          NaN\n",
       "2 X   400000  0.04535147 0.04648526 2.439024e-02\n",
       "3 X   400108  0.26757370 0.45918367 4.172840e-01\n",
       "4 X   400132  0.18140590 0.20975057 1.351351e-01\n",
       "5 X   400148  0.00000000 0.00000000          NaN\n",
       "6 X   400303  0.47020266 0.47022038 3.767472e-05"
      ]
     },
     "metadata": {},
     "output_type": "display_data"
    },
    {
     "data": {
      "text/html": [
       "<style>\n",
       ".list-inline {list-style: none; margin:0; padding: 0}\n",
       ".list-inline>li {display: inline-block}\n",
       ".list-inline>li:not(:last-child)::after {content: \"\\00b7\"; padding: 0 .5ex}\n",
       "</style>\n",
       "<ol class=list-inline><li>1</li><li>5</li><li>8</li><li>15</li><li>22</li><li>26</li></ol>\n"
      ],
      "text/latex": [
       "\\begin{enumerate*}\n",
       "\\item 1\n",
       "\\item 5\n",
       "\\item 8\n",
       "\\item 15\n",
       "\\item 22\n",
       "\\item 26\n",
       "\\end{enumerate*}\n"
      ],
      "text/markdown": [
       "1. 1\n",
       "2. 5\n",
       "3. 8\n",
       "4. 15\n",
       "5. 22\n",
       "6. 26\n",
       "\n",
       "\n"
      ],
      "text/plain": [
       "[1]  1  5  8 15 22 26"
      ]
     },
     "metadata": {},
     "output_type": "display_data"
    },
    {
     "data": {
      "text/html": [
       "131113"
      ],
      "text/latex": [
       "131113"
      ],
      "text/markdown": [
       "131113"
      ],
      "text/plain": [
       "[1] 131113"
      ]
     },
     "metadata": {},
     "output_type": "display_data"
    }
   ],
   "source": [
    "#between Africa and Europe\n",
    "print(\"Africa - WestEurasia\")\n",
    "FST_AF_WE_per_position <- FST_per_position(res_scan, c(\"Africa\", \"WestEurasia\"))\n",
    "head(FST_AF_WE_per_position)\n",
    "write_delim(FST_AF_WE_per_position, \"FST_AF_WE_per_position.csv\", delim = \"\\t\")\n",
    "\n",
    "missing_FST_AF_WE  <- which(is.na(FST_AF_WE_per_position$FST))\n",
    "head(missing_FST_AF_WE)\n",
    "length(missing_FST_AF_WE)\n",
    "\n",
    "FST_AF_WE_per_position <- FST_AF_WE_per_position %>% mutate(FST = coalesce(FST, 0))\n",
    "\n",
    "#between Europe and East Asia\n",
    "print(\"WestEurasia - EastAsia\")\n",
    "FST_WE_EA_per_position <- FST_per_position(res_scan, c(\"WestEurasia\", \"EastAsia\"))\n",
    "head(FST_WE_EA_per_position)\n",
    "write_delim(FST_WE_EA_per_position, \"FST_WE_EA_per_position.csv\", delim = \"\\t\")\n",
    "\n",
    "missing_FST_WE_EA <- which(is.na(FST_WE_EA_per_position$FST))\n",
    "head(missing_FST_WE_EA)\n",
    "length(missing_FST_WE_EA)\n",
    "\n",
    "FST_WE_EA_per_position <- FST_WE_EA_per_position %>% mutate(FST = coalesce(FST, 0))\n",
    "\n",
    "#between East Asia and Africa.\n",
    "print(\"EastAsia - Africa\")\n",
    "FST_EA_AF_per_position <- FST_per_position(res_scan, c(\"EastAsia\", \"Africa\"))\n",
    "head(FST_EA_AF_per_position)\n",
    "write_delim(FST_EA_AF_per_position, \"FST_EA_AF_per_position.csv\", delim = \"\\t\")\n",
    "\n",
    "missing_FST_EA_AF <- which(is.na(FST_EA_AF_per_position$FST))\n",
    "head(missing_FST_EA_AF)\n",
    "length(missing_FST_EA_AF)\n",
    "\n",
    "FST_EA_AF_per_position <- FST_EA_AF_per_position %>% mutate(FST = coalesce(FST, 0))\n"
   ]
  },
  {
   "cell_type": "code",
   "execution_count": null,
   "id": "announced-graph",
   "metadata": {},
   "outputs": [
    {
     "name": "stdout",
     "output_type": "stream",
     "text": [
      "[1] \"SouthAsia - Africa\"\n",
      "[1] \"here\"\n"
     ]
    },
    {
     "data": {
      "text/html": [
       "<table class=\"dataframe\">\n",
       "<caption>A tibble: 6 × 5</caption>\n",
       "<thead>\n",
       "\t<tr><th scope=col>chr</th><th scope=col>snp_pos</th><th scope=col>H_S</th><th scope=col>H_T</th><th scope=col>FST</th></tr>\n",
       "\t<tr><th scope=col>&lt;chr&gt;</th><th scope=col>&lt;int&gt;</th><th scope=col>&lt;dbl&gt;</th><th scope=col>&lt;dbl&gt;</th><th scope=col>&lt;dbl&gt;</th></tr>\n",
       "</thead>\n",
       "<tbody>\n",
       "\t<tr><td>X</td><td>365712</td><td>0.00000000</td><td>0.00000000</td><td>       NaN</td></tr>\n",
       "\t<tr><td>X</td><td>400000</td><td>0.04535147</td><td>0.04648526</td><td>0.02439024</td></tr>\n",
       "\t<tr><td>X</td><td>400108</td><td>0.28535147</td><td>0.43791383</td><td>0.34838442</td></tr>\n",
       "\t<tr><td>X</td><td>400132</td><td>0.18140590</td><td>0.20975057</td><td>0.13513514</td></tr>\n",
       "\t<tr><td>X</td><td>400148</td><td>0.03222222</td><td>0.03277778</td><td>0.01694915</td></tr>\n",
       "\t<tr><td>X</td><td>400303</td><td>0.43138322</td><td>0.43791383</td><td>0.01491301</td></tr>\n",
       "</tbody>\n",
       "</table>\n"
      ],
      "text/latex": [
       "A tibble: 6 × 5\n",
       "\\begin{tabular}{lllll}\n",
       " chr & snp\\_pos & H\\_S & H\\_T & FST\\\\\n",
       " <chr> & <int> & <dbl> & <dbl> & <dbl>\\\\\n",
       "\\hline\n",
       "\t X & 365712 & 0.00000000 & 0.00000000 &        NaN\\\\\n",
       "\t X & 400000 & 0.04535147 & 0.04648526 & 0.02439024\\\\\n",
       "\t X & 400108 & 0.28535147 & 0.43791383 & 0.34838442\\\\\n",
       "\t X & 400132 & 0.18140590 & 0.20975057 & 0.13513514\\\\\n",
       "\t X & 400148 & 0.03222222 & 0.03277778 & 0.01694915\\\\\n",
       "\t X & 400303 & 0.43138322 & 0.43791383 & 0.01491301\\\\\n",
       "\\end{tabular}\n"
      ],
      "text/markdown": [
       "\n",
       "A tibble: 6 × 5\n",
       "\n",
       "| chr &lt;chr&gt; | snp_pos &lt;int&gt; | H_S &lt;dbl&gt; | H_T &lt;dbl&gt; | FST &lt;dbl&gt; |\n",
       "|---|---|---|---|---|\n",
       "| X | 365712 | 0.00000000 | 0.00000000 |        NaN |\n",
       "| X | 400000 | 0.04535147 | 0.04648526 | 0.02439024 |\n",
       "| X | 400108 | 0.28535147 | 0.43791383 | 0.34838442 |\n",
       "| X | 400132 | 0.18140590 | 0.20975057 | 0.13513514 |\n",
       "| X | 400148 | 0.03222222 | 0.03277778 | 0.01694915 |\n",
       "| X | 400303 | 0.43138322 | 0.43791383 | 0.01491301 |\n",
       "\n"
      ],
      "text/plain": [
       "  chr snp_pos H_S        H_T        FST       \n",
       "1 X   365712  0.00000000 0.00000000        NaN\n",
       "2 X   400000  0.04535147 0.04648526 0.02439024\n",
       "3 X   400108  0.28535147 0.43791383 0.34838442\n",
       "4 X   400132  0.18140590 0.20975057 0.13513514\n",
       "5 X   400148  0.03222222 0.03277778 0.01694915\n",
       "6 X   400303  0.43138322 0.43791383 0.01491301"
      ]
     },
     "metadata": {},
     "output_type": "display_data"
    },
    {
     "data": {
      "text/html": [
       "<style>\n",
       ".list-inline {list-style: none; margin:0; padding: 0}\n",
       ".list-inline>li {display: inline-block}\n",
       ".list-inline>li:not(:last-child)::after {content: \"\\00b7\"; padding: 0 .5ex}\n",
       "</style>\n",
       "<ol class=list-inline><li>1</li><li>8</li><li>10</li><li>12</li><li>19</li><li>22</li></ol>\n"
      ],
      "text/latex": [
       "\\begin{enumerate*}\n",
       "\\item 1\n",
       "\\item 8\n",
       "\\item 10\n",
       "\\item 12\n",
       "\\item 19\n",
       "\\item 22\n",
       "\\end{enumerate*}\n"
      ],
      "text/markdown": [
       "1. 1\n",
       "2. 8\n",
       "3. 10\n",
       "4. 12\n",
       "5. 19\n",
       "6. 22\n",
       "\n",
       "\n"
      ],
      "text/plain": [
       "[1]  1  8 10 12 19 22"
      ]
     },
     "metadata": {},
     "output_type": "display_data"
    },
    {
     "data": {
      "text/html": [
       "120191"
      ],
      "text/latex": [
       "120191"
      ],
      "text/markdown": [
       "120191"
      ],
      "text/plain": [
       "[1] 120191"
      ]
     },
     "metadata": {},
     "output_type": "display_data"
    },
    {
     "name": "stdout",
     "output_type": "stream",
     "text": [
      "[1] \"Africa-America\"\n",
      "[1] \"here\"\n"
     ]
    },
    {
     "data": {
      "text/html": [
       "<table class=\"dataframe\">\n",
       "<caption>A tibble: 6 × 5</caption>\n",
       "<thead>\n",
       "\t<tr><th scope=col>chr</th><th scope=col>snp_pos</th><th scope=col>H_S</th><th scope=col>H_T</th><th scope=col>FST</th></tr>\n",
       "\t<tr><th scope=col>&lt;chr&gt;</th><th scope=col>&lt;int&gt;</th><th scope=col>&lt;dbl&gt;</th><th scope=col>&lt;dbl&gt;</th><th scope=col>&lt;dbl&gt;</th></tr>\n",
       "</thead>\n",
       "<tbody>\n",
       "\t<tr><td>X</td><td>365712</td><td>0.00000000</td><td>0.00000000</td><td>       NaN</td></tr>\n",
       "\t<tr><td>X</td><td>400000</td><td>0.04535147</td><td>0.04648526</td><td>0.02439024</td></tr>\n",
       "\t<tr><td>X</td><td>400108</td><td>0.04535147</td><td>0.49886621</td><td>0.90909091</td></tr>\n",
       "\t<tr><td>X</td><td>400132</td><td>0.18140590</td><td>0.20975057</td><td>0.13513514</td></tr>\n",
       "\t<tr><td>X</td><td>400148</td><td>0.00000000</td><td>0.00000000</td><td>       NaN</td></tr>\n",
       "\t<tr><td>X</td><td>400303</td><td>0.37471655</td><td>0.39767574</td><td>0.05773343</td></tr>\n",
       "</tbody>\n",
       "</table>\n"
      ],
      "text/latex": [
       "A tibble: 6 × 5\n",
       "\\begin{tabular}{lllll}\n",
       " chr & snp\\_pos & H\\_S & H\\_T & FST\\\\\n",
       " <chr> & <int> & <dbl> & <dbl> & <dbl>\\\\\n",
       "\\hline\n",
       "\t X & 365712 & 0.00000000 & 0.00000000 &        NaN\\\\\n",
       "\t X & 400000 & 0.04535147 & 0.04648526 & 0.02439024\\\\\n",
       "\t X & 400108 & 0.04535147 & 0.49886621 & 0.90909091\\\\\n",
       "\t X & 400132 & 0.18140590 & 0.20975057 & 0.13513514\\\\\n",
       "\t X & 400148 & 0.00000000 & 0.00000000 &        NaN\\\\\n",
       "\t X & 400303 & 0.37471655 & 0.39767574 & 0.05773343\\\\\n",
       "\\end{tabular}\n"
      ],
      "text/markdown": [
       "\n",
       "A tibble: 6 × 5\n",
       "\n",
       "| chr &lt;chr&gt; | snp_pos &lt;int&gt; | H_S &lt;dbl&gt; | H_T &lt;dbl&gt; | FST &lt;dbl&gt; |\n",
       "|---|---|---|---|---|\n",
       "| X | 365712 | 0.00000000 | 0.00000000 |        NaN |\n",
       "| X | 400000 | 0.04535147 | 0.04648526 | 0.02439024 |\n",
       "| X | 400108 | 0.04535147 | 0.49886621 | 0.90909091 |\n",
       "| X | 400132 | 0.18140590 | 0.20975057 | 0.13513514 |\n",
       "| X | 400148 | 0.00000000 | 0.00000000 |        NaN |\n",
       "| X | 400303 | 0.37471655 | 0.39767574 | 0.05773343 |\n",
       "\n"
      ],
      "text/plain": [
       "  chr snp_pos H_S        H_T        FST       \n",
       "1 X   365712  0.00000000 0.00000000        NaN\n",
       "2 X   400000  0.04535147 0.04648526 0.02439024\n",
       "3 X   400108  0.04535147 0.49886621 0.90909091\n",
       "4 X   400132  0.18140590 0.20975057 0.13513514\n",
       "5 X   400148  0.00000000 0.00000000        NaN\n",
       "6 X   400303  0.37471655 0.39767574 0.05773343"
      ]
     },
     "metadata": {},
     "output_type": "display_data"
    },
    {
     "data": {
      "text/html": [
       "<style>\n",
       ".list-inline {list-style: none; margin:0; padding: 0}\n",
       ".list-inline>li {display: inline-block}\n",
       ".list-inline>li:not(:last-child)::after {content: \"\\00b7\"; padding: 0 .5ex}\n",
       "</style>\n",
       "<ol class=list-inline><li>1</li><li>5</li><li>8</li><li>10</li><li>12</li><li>13</li></ol>\n"
      ],
      "text/latex": [
       "\\begin{enumerate*}\n",
       "\\item 1\n",
       "\\item 5\n",
       "\\item 8\n",
       "\\item 10\n",
       "\\item 12\n",
       "\\item 13\n",
       "\\end{enumerate*}\n"
      ],
      "text/markdown": [
       "1. 1\n",
       "2. 5\n",
       "3. 8\n",
       "4. 10\n",
       "5. 12\n",
       "6. 13\n",
       "\n",
       "\n"
      ],
      "text/plain": [
       "[1]  1  5  8 10 12 13"
      ]
     },
     "metadata": {},
     "output_type": "display_data"
    },
    {
     "data": {
      "text/html": [
       "161827"
      ],
      "text/latex": [
       "161827"
      ],
      "text/markdown": [
       "161827"
      ],
      "text/plain": [
       "[1] 161827"
      ]
     },
     "metadata": {},
     "output_type": "display_data"
    },
    {
     "name": "stdout",
     "output_type": "stream",
     "text": [
      "[1] \"Africa-America\"\n",
      "[1] \"here\"\n"
     ]
    },
    {
     "data": {
      "text/html": [
       "<table class=\"dataframe\">\n",
       "<caption>A tibble: 6 × 5</caption>\n",
       "<thead>\n",
       "\t<tr><th scope=col>chr</th><th scope=col>snp_pos</th><th scope=col>H_S</th><th scope=col>H_T</th><th scope=col>FST</th></tr>\n",
       "\t<tr><th scope=col>&lt;chr&gt;</th><th scope=col>&lt;int&gt;</th><th scope=col>&lt;dbl&gt;</th><th scope=col>&lt;dbl&gt;</th><th scope=col>&lt;dbl&gt;</th></tr>\n",
       "</thead>\n",
       "<tbody>\n",
       "\t<tr><td>X</td><td>365712</td><td>0.00000000</td><td>0.00000000</td><td>       NaN</td></tr>\n",
       "\t<tr><td>X</td><td>400000</td><td>0.04535147</td><td>0.04648526</td><td>0.02439024</td></tr>\n",
       "\t<tr><td>X</td><td>400108</td><td>0.04535147</td><td>0.49886621</td><td>0.90909091</td></tr>\n",
       "\t<tr><td>X</td><td>400132</td><td>0.18140590</td><td>0.20975057</td><td>0.13513514</td></tr>\n",
       "\t<tr><td>X</td><td>400148</td><td>0.00000000</td><td>0.00000000</td><td>       NaN</td></tr>\n",
       "\t<tr><td>X</td><td>400303</td><td>0.47020266</td><td>0.49998228</td><td>0.05956135</td></tr>\n",
       "</tbody>\n",
       "</table>\n"
      ],
      "text/latex": [
       "A tibble: 6 × 5\n",
       "\\begin{tabular}{lllll}\n",
       " chr & snp\\_pos & H\\_S & H\\_T & FST\\\\\n",
       " <chr> & <int> & <dbl> & <dbl> & <dbl>\\\\\n",
       "\\hline\n",
       "\t X & 365712 & 0.00000000 & 0.00000000 &        NaN\\\\\n",
       "\t X & 400000 & 0.04535147 & 0.04648526 & 0.02439024\\\\\n",
       "\t X & 400108 & 0.04535147 & 0.49886621 & 0.90909091\\\\\n",
       "\t X & 400132 & 0.18140590 & 0.20975057 & 0.13513514\\\\\n",
       "\t X & 400148 & 0.00000000 & 0.00000000 &        NaN\\\\\n",
       "\t X & 400303 & 0.47020266 & 0.49998228 & 0.05956135\\\\\n",
       "\\end{tabular}\n"
      ],
      "text/markdown": [
       "\n",
       "A tibble: 6 × 5\n",
       "\n",
       "| chr &lt;chr&gt; | snp_pos &lt;int&gt; | H_S &lt;dbl&gt; | H_T &lt;dbl&gt; | FST &lt;dbl&gt; |\n",
       "|---|---|---|---|---|\n",
       "| X | 365712 | 0.00000000 | 0.00000000 |        NaN |\n",
       "| X | 400000 | 0.04535147 | 0.04648526 | 0.02439024 |\n",
       "| X | 400108 | 0.04535147 | 0.49886621 | 0.90909091 |\n",
       "| X | 400132 | 0.18140590 | 0.20975057 | 0.13513514 |\n",
       "| X | 400148 | 0.00000000 | 0.00000000 |        NaN |\n",
       "| X | 400303 | 0.47020266 | 0.49998228 | 0.05956135 |\n",
       "\n"
      ],
      "text/plain": [
       "  chr snp_pos H_S        H_T        FST       \n",
       "1 X   365712  0.00000000 0.00000000        NaN\n",
       "2 X   400000  0.04535147 0.04648526 0.02439024\n",
       "3 X   400108  0.04535147 0.49886621 0.90909091\n",
       "4 X   400132  0.18140590 0.20975057 0.13513514\n",
       "5 X   400148  0.00000000 0.00000000        NaN\n",
       "6 X   400303  0.47020266 0.49998228 0.05956135"
      ]
     },
     "metadata": {},
     "output_type": "display_data"
    },
    {
     "data": {
      "text/html": [
       "<style>\n",
       ".list-inline {list-style: none; margin:0; padding: 0}\n",
       ".list-inline>li {display: inline-block}\n",
       ".list-inline>li:not(:last-child)::after {content: \"\\00b7\"; padding: 0 .5ex}\n",
       "</style>\n",
       "<ol class=list-inline><li>1</li><li>5</li><li>10</li><li>15</li><li>19</li><li>21</li></ol>\n"
      ],
      "text/latex": [
       "\\begin{enumerate*}\n",
       "\\item 1\n",
       "\\item 5\n",
       "\\item 10\n",
       "\\item 15\n",
       "\\item 19\n",
       "\\item 21\n",
       "\\end{enumerate*}\n"
      ],
      "text/markdown": [
       "1. 1\n",
       "2. 5\n",
       "3. 10\n",
       "4. 15\n",
       "5. 19\n",
       "6. 21\n",
       "\n",
       "\n"
      ],
      "text/plain": [
       "[1]  1  5 10 15 19 21"
      ]
     },
     "metadata": {},
     "output_type": "display_data"
    },
    {
     "data": {
      "text/html": [
       "154961"
      ],
      "text/latex": [
       "154961"
      ],
      "text/markdown": [
       "154961"
      ],
      "text/plain": [
       "[1] 154961"
      ]
     },
     "metadata": {},
     "output_type": "display_data"
    },
    {
     "name": "stdout",
     "output_type": "stream",
     "text": [
      "[1] \"Africa-Oceania\"\n",
      "[1] \"here\"\n"
     ]
    },
    {
     "data": {
      "text/html": [
       "<table class=\"dataframe\">\n",
       "<caption>A tibble: 6 × 5</caption>\n",
       "<thead>\n",
       "\t<tr><th scope=col>chr</th><th scope=col>snp_pos</th><th scope=col>H_S</th><th scope=col>H_T</th><th scope=col>FST</th></tr>\n",
       "\t<tr><th scope=col>&lt;chr&gt;</th><th scope=col>&lt;int&gt;</th><th scope=col>&lt;dbl&gt;</th><th scope=col>&lt;dbl&gt;</th><th scope=col>&lt;dbl&gt;</th></tr>\n",
       "</thead>\n",
       "<tbody>\n",
       "\t<tr><td>X</td><td>365712</td><td>0.07638889</td><td>0.07986111</td><td>0.043478261</td></tr>\n",
       "\t<tr><td>X</td><td>400000</td><td>0.04535147</td><td>0.04648526</td><td>0.024390244</td></tr>\n",
       "\t<tr><td>X</td><td>400108</td><td>0.12174036</td><td>0.12237812</td><td>0.005211349</td></tr>\n",
       "\t<tr><td>X</td><td>400132</td><td>0.18140590</td><td>0.20975057</td><td>0.135135135</td></tr>\n",
       "\t<tr><td>X</td><td>400148</td><td>0.00000000</td><td>0.00000000</td><td>        NaN</td></tr>\n",
       "\t<tr><td>X</td><td>400303</td><td>0.45804989</td><td>0.45918367</td><td>0.002469136</td></tr>\n",
       "</tbody>\n",
       "</table>\n"
      ],
      "text/latex": [
       "A tibble: 6 × 5\n",
       "\\begin{tabular}{lllll}\n",
       " chr & snp\\_pos & H\\_S & H\\_T & FST\\\\\n",
       " <chr> & <int> & <dbl> & <dbl> & <dbl>\\\\\n",
       "\\hline\n",
       "\t X & 365712 & 0.07638889 & 0.07986111 & 0.043478261\\\\\n",
       "\t X & 400000 & 0.04535147 & 0.04648526 & 0.024390244\\\\\n",
       "\t X & 400108 & 0.12174036 & 0.12237812 & 0.005211349\\\\\n",
       "\t X & 400132 & 0.18140590 & 0.20975057 & 0.135135135\\\\\n",
       "\t X & 400148 & 0.00000000 & 0.00000000 &         NaN\\\\\n",
       "\t X & 400303 & 0.45804989 & 0.45918367 & 0.002469136\\\\\n",
       "\\end{tabular}\n"
      ],
      "text/markdown": [
       "\n",
       "A tibble: 6 × 5\n",
       "\n",
       "| chr &lt;chr&gt; | snp_pos &lt;int&gt; | H_S &lt;dbl&gt; | H_T &lt;dbl&gt; | FST &lt;dbl&gt; |\n",
       "|---|---|---|---|---|\n",
       "| X | 365712 | 0.07638889 | 0.07986111 | 0.043478261 |\n",
       "| X | 400000 | 0.04535147 | 0.04648526 | 0.024390244 |\n",
       "| X | 400108 | 0.12174036 | 0.12237812 | 0.005211349 |\n",
       "| X | 400132 | 0.18140590 | 0.20975057 | 0.135135135 |\n",
       "| X | 400148 | 0.00000000 | 0.00000000 |         NaN |\n",
       "| X | 400303 | 0.45804989 | 0.45918367 | 0.002469136 |\n",
       "\n"
      ],
      "text/plain": [
       "  chr snp_pos H_S        H_T        FST        \n",
       "1 X   365712  0.07638889 0.07986111 0.043478261\n",
       "2 X   400000  0.04535147 0.04648526 0.024390244\n",
       "3 X   400108  0.12174036 0.12237812 0.005211349\n",
       "4 X   400132  0.18140590 0.20975057 0.135135135\n",
       "5 X   400148  0.00000000 0.00000000         NaN\n",
       "6 X   400303  0.45804989 0.45918367 0.002469136"
      ]
     },
     "metadata": {},
     "output_type": "display_data"
    },
    {
     "data": {
      "text/html": [
       "<style>\n",
       ".list-inline {list-style: none; margin:0; padding: 0}\n",
       ".list-inline>li {display: inline-block}\n",
       ".list-inline>li:not(:last-child)::after {content: \"\\00b7\"; padding: 0 .5ex}\n",
       "</style>\n",
       "<ol class=list-inline><li>5</li><li>8</li><li>10</li><li>12</li><li>13</li><li>15</li></ol>\n"
      ],
      "text/latex": [
       "\\begin{enumerate*}\n",
       "\\item 5\n",
       "\\item 8\n",
       "\\item 10\n",
       "\\item 12\n",
       "\\item 13\n",
       "\\item 15\n",
       "\\end{enumerate*}\n"
      ],
      "text/markdown": [
       "1. 5\n",
       "2. 8\n",
       "3. 10\n",
       "4. 12\n",
       "5. 13\n",
       "6. 15\n",
       "\n",
       "\n"
      ],
      "text/plain": [
       "[1]  5  8 10 12 13 15"
      ]
     },
     "metadata": {},
     "output_type": "display_data"
    },
    {
     "data": {
      "text/html": [
       "149745"
      ],
      "text/latex": [
       "149745"
      ],
      "text/markdown": [
       "149745"
      ],
      "text/plain": [
       "[1] 149745"
      ]
     },
     "metadata": {},
     "output_type": "display_data"
    },
    {
     "name": "stdout",
     "output_type": "stream",
     "text": [
      "[1] \"EastAsia-SouthAsia\"\n",
      "[1] \"here\"\n"
     ]
    },
    {
     "data": {
      "text/html": [
       "<table class=\"dataframe\">\n",
       "<caption>A tibble: 6 × 5</caption>\n",
       "<thead>\n",
       "\t<tr><th scope=col>chr</th><th scope=col>snp_pos</th><th scope=col>H_S</th><th scope=col>H_T</th><th scope=col>FST</th></tr>\n",
       "\t<tr><th scope=col>&lt;chr&gt;</th><th scope=col>&lt;int&gt;</th><th scope=col>&lt;dbl&gt;</th><th scope=col>&lt;dbl&gt;</th><th scope=col>&lt;dbl&gt;</th></tr>\n",
       "</thead>\n",
       "<tbody>\n",
       "\t<tr><td>X</td><td>365712</td><td>0.00000000</td><td>0.00000000</td><td>        NaN</td></tr>\n",
       "\t<tr><td>X</td><td>400000</td><td>0.00000000</td><td>0.00000000</td><td>        NaN</td></tr>\n",
       "\t<tr><td>X</td><td>400108</td><td>0.46222222</td><td>0.46444444</td><td>0.004784689</td></tr>\n",
       "\t<tr><td>X</td><td>400132</td><td>0.00000000</td><td>0.00000000</td><td>        NaN</td></tr>\n",
       "\t<tr><td>X</td><td>400148</td><td>0.03222222</td><td>0.03277778</td><td>0.016949153</td></tr>\n",
       "\t<tr><td>X</td><td>400303</td><td>0.42993056</td><td>0.43579861</td><td>0.013465063</td></tr>\n",
       "</tbody>\n",
       "</table>\n"
      ],
      "text/latex": [
       "A tibble: 6 × 5\n",
       "\\begin{tabular}{lllll}\n",
       " chr & snp\\_pos & H\\_S & H\\_T & FST\\\\\n",
       " <chr> & <int> & <dbl> & <dbl> & <dbl>\\\\\n",
       "\\hline\n",
       "\t X & 365712 & 0.00000000 & 0.00000000 &         NaN\\\\\n",
       "\t X & 400000 & 0.00000000 & 0.00000000 &         NaN\\\\\n",
       "\t X & 400108 & 0.46222222 & 0.46444444 & 0.004784689\\\\\n",
       "\t X & 400132 & 0.00000000 & 0.00000000 &         NaN\\\\\n",
       "\t X & 400148 & 0.03222222 & 0.03277778 & 0.016949153\\\\\n",
       "\t X & 400303 & 0.42993056 & 0.43579861 & 0.013465063\\\\\n",
       "\\end{tabular}\n"
      ],
      "text/markdown": [
       "\n",
       "A tibble: 6 × 5\n",
       "\n",
       "| chr &lt;chr&gt; | snp_pos &lt;int&gt; | H_S &lt;dbl&gt; | H_T &lt;dbl&gt; | FST &lt;dbl&gt; |\n",
       "|---|---|---|---|---|\n",
       "| X | 365712 | 0.00000000 | 0.00000000 |         NaN |\n",
       "| X | 400000 | 0.00000000 | 0.00000000 |         NaN |\n",
       "| X | 400108 | 0.46222222 | 0.46444444 | 0.004784689 |\n",
       "| X | 400132 | 0.00000000 | 0.00000000 |         NaN |\n",
       "| X | 400148 | 0.03222222 | 0.03277778 | 0.016949153 |\n",
       "| X | 400303 | 0.42993056 | 0.43579861 | 0.013465063 |\n",
       "\n"
      ],
      "text/plain": [
       "  chr snp_pos H_S        H_T        FST        \n",
       "1 X   365712  0.00000000 0.00000000         NaN\n",
       "2 X   400000  0.00000000 0.00000000         NaN\n",
       "3 X   400108  0.46222222 0.46444444 0.004784689\n",
       "4 X   400132  0.00000000 0.00000000         NaN\n",
       "5 X   400148  0.03222222 0.03277778 0.016949153\n",
       "6 X   400303  0.42993056 0.43579861 0.013465063"
      ]
     },
     "metadata": {},
     "output_type": "display_data"
    },
    {
     "data": {
      "text/html": [
       "<style>\n",
       ".list-inline {list-style: none; margin:0; padding: 0}\n",
       ".list-inline>li {display: inline-block}\n",
       ".list-inline>li:not(:last-child)::after {content: \"\\00b7\"; padding: 0 .5ex}\n",
       "</style>\n",
       "<ol class=list-inline><li>1</li><li>2</li><li>4</li><li>7</li><li>8</li><li>11</li></ol>\n"
      ],
      "text/latex": [
       "\\begin{enumerate*}\n",
       "\\item 1\n",
       "\\item 2\n",
       "\\item 4\n",
       "\\item 7\n",
       "\\item 8\n",
       "\\item 11\n",
       "\\end{enumerate*}\n"
      ],
      "text/markdown": [
       "1. 1\n",
       "2. 2\n",
       "3. 4\n",
       "4. 7\n",
       "5. 8\n",
       "6. 11\n",
       "\n",
       "\n"
      ],
      "text/plain": [
       "[1]  1  2  4  7  8 11"
      ]
     },
     "metadata": {},
     "output_type": "display_data"
    },
    {
     "data": {
      "text/html": [
       "245685"
      ],
      "text/latex": [
       "245685"
      ],
      "text/markdown": [
       "245685"
      ],
      "text/plain": [
       "[1] 245685"
      ]
     },
     "metadata": {},
     "output_type": "display_data"
    },
    {
     "name": "stdout",
     "output_type": "stream",
     "text": [
      "[1] \"EastAsia-America\"\n",
      "[1] \"here\"\n"
     ]
    },
    {
     "data": {
      "text/html": [
       "<table class=\"dataframe\">\n",
       "<caption>A tibble: 6 × 5</caption>\n",
       "<thead>\n",
       "\t<tr><th scope=col>chr</th><th scope=col>snp_pos</th><th scope=col>H_S</th><th scope=col>H_T</th><th scope=col>FST</th></tr>\n",
       "\t<tr><th scope=col>&lt;chr&gt;</th><th scope=col>&lt;int&gt;</th><th scope=col>&lt;dbl&gt;</th><th scope=col>&lt;dbl&gt;</th><th scope=col>&lt;dbl&gt;</th></tr>\n",
       "</thead>\n",
       "<tbody>\n",
       "\t<tr><td>X</td><td>365712</td><td>0.0000000</td><td>0.0000000</td><td>       NaN</td></tr>\n",
       "\t<tr><td>X</td><td>400000</td><td>0.0000000</td><td>0.0000000</td><td>       NaN</td></tr>\n",
       "\t<tr><td>X</td><td>400108</td><td>0.2222222</td><td>0.2777778</td><td>0.20000000</td></tr>\n",
       "\t<tr><td>X</td><td>400132</td><td>0.0000000</td><td>0.0000000</td><td>       NaN</td></tr>\n",
       "\t<tr><td>X</td><td>400148</td><td>0.0000000</td><td>0.0000000</td><td>       NaN</td></tr>\n",
       "\t<tr><td>X</td><td>400303</td><td>0.3732639</td><td>0.3949653</td><td>0.05494505</td></tr>\n",
       "</tbody>\n",
       "</table>\n"
      ],
      "text/latex": [
       "A tibble: 6 × 5\n",
       "\\begin{tabular}{lllll}\n",
       " chr & snp\\_pos & H\\_S & H\\_T & FST\\\\\n",
       " <chr> & <int> & <dbl> & <dbl> & <dbl>\\\\\n",
       "\\hline\n",
       "\t X & 365712 & 0.0000000 & 0.0000000 &        NaN\\\\\n",
       "\t X & 400000 & 0.0000000 & 0.0000000 &        NaN\\\\\n",
       "\t X & 400108 & 0.2222222 & 0.2777778 & 0.20000000\\\\\n",
       "\t X & 400132 & 0.0000000 & 0.0000000 &        NaN\\\\\n",
       "\t X & 400148 & 0.0000000 & 0.0000000 &        NaN\\\\\n",
       "\t X & 400303 & 0.3732639 & 0.3949653 & 0.05494505\\\\\n",
       "\\end{tabular}\n"
      ],
      "text/markdown": [
       "\n",
       "A tibble: 6 × 5\n",
       "\n",
       "| chr &lt;chr&gt; | snp_pos &lt;int&gt; | H_S &lt;dbl&gt; | H_T &lt;dbl&gt; | FST &lt;dbl&gt; |\n",
       "|---|---|---|---|---|\n",
       "| X | 365712 | 0.0000000 | 0.0000000 |        NaN |\n",
       "| X | 400000 | 0.0000000 | 0.0000000 |        NaN |\n",
       "| X | 400108 | 0.2222222 | 0.2777778 | 0.20000000 |\n",
       "| X | 400132 | 0.0000000 | 0.0000000 |        NaN |\n",
       "| X | 400148 | 0.0000000 | 0.0000000 |        NaN |\n",
       "| X | 400303 | 0.3732639 | 0.3949653 | 0.05494505 |\n",
       "\n"
      ],
      "text/plain": [
       "  chr snp_pos H_S       H_T       FST       \n",
       "1 X   365712  0.0000000 0.0000000        NaN\n",
       "2 X   400000  0.0000000 0.0000000        NaN\n",
       "3 X   400108  0.2222222 0.2777778 0.20000000\n",
       "4 X   400132  0.0000000 0.0000000        NaN\n",
       "5 X   400148  0.0000000 0.0000000        NaN\n",
       "6 X   400303  0.3732639 0.3949653 0.05494505"
      ]
     },
     "metadata": {},
     "output_type": "display_data"
    },
    {
     "data": {
      "text/html": [
       "<style>\n",
       ".list-inline {list-style: none; margin:0; padding: 0}\n",
       ".list-inline>li {display: inline-block}\n",
       ".list-inline>li:not(:last-child)::after {content: \"\\00b7\"; padding: 0 .5ex}\n",
       "</style>\n",
       "<ol class=list-inline><li>1</li><li>2</li><li>4</li><li>5</li><li>7</li><li>8</li></ol>\n"
      ],
      "text/latex": [
       "\\begin{enumerate*}\n",
       "\\item 1\n",
       "\\item 2\n",
       "\\item 4\n",
       "\\item 5\n",
       "\\item 7\n",
       "\\item 8\n",
       "\\end{enumerate*}\n"
      ],
      "text/markdown": [
       "1. 1\n",
       "2. 2\n",
       "3. 4\n",
       "4. 5\n",
       "5. 7\n",
       "6. 8\n",
       "\n",
       "\n"
      ],
      "text/plain": [
       "[1] 1 2 4 5 7 8"
      ]
     },
     "metadata": {},
     "output_type": "display_data"
    },
    {
     "data": {
      "text/html": [
       "293768"
      ],
      "text/latex": [
       "293768"
      ],
      "text/markdown": [
       "293768"
      ],
      "text/plain": [
       "[1] 293768"
      ]
     },
     "metadata": {},
     "output_type": "display_data"
    },
    {
     "name": "stdout",
     "output_type": "stream",
     "text": [
      "[1] \"EastAsia-CentralAsiaSiberia\"\n",
      "[1] \"here\"\n"
     ]
    },
    {
     "data": {
      "text/html": [
       "<table class=\"dataframe\">\n",
       "<caption>A tibble: 6 × 5</caption>\n",
       "<thead>\n",
       "\t<tr><th scope=col>chr</th><th scope=col>snp_pos</th><th scope=col>H_S</th><th scope=col>H_T</th><th scope=col>FST</th></tr>\n",
       "\t<tr><th scope=col>&lt;chr&gt;</th><th scope=col>&lt;int&gt;</th><th scope=col>&lt;dbl&gt;</th><th scope=col>&lt;dbl&gt;</th><th scope=col>&lt;dbl&gt;</th></tr>\n",
       "</thead>\n",
       "<tbody>\n",
       "\t<tr><td>X</td><td>365712</td><td>0.0000000</td><td>0.0000000</td><td>   NaN</td></tr>\n",
       "\t<tr><td>X</td><td>400000</td><td>0.0000000</td><td>0.0000000</td><td>   NaN</td></tr>\n",
       "\t<tr><td>X</td><td>400108</td><td>0.2222222</td><td>0.2777778</td><td>0.2000</td></tr>\n",
       "\t<tr><td>X</td><td>400132</td><td>0.0000000</td><td>0.0000000</td><td>   NaN</td></tr>\n",
       "\t<tr><td>X</td><td>400148</td><td>0.0000000</td><td>0.0000000</td><td>   NaN</td></tr>\n",
       "\t<tr><td>X</td><td>400303</td><td>0.4687500</td><td>0.5000000</td><td>0.0625</td></tr>\n",
       "</tbody>\n",
       "</table>\n"
      ],
      "text/latex": [
       "A tibble: 6 × 5\n",
       "\\begin{tabular}{lllll}\n",
       " chr & snp\\_pos & H\\_S & H\\_T & FST\\\\\n",
       " <chr> & <int> & <dbl> & <dbl> & <dbl>\\\\\n",
       "\\hline\n",
       "\t X & 365712 & 0.0000000 & 0.0000000 &    NaN\\\\\n",
       "\t X & 400000 & 0.0000000 & 0.0000000 &    NaN\\\\\n",
       "\t X & 400108 & 0.2222222 & 0.2777778 & 0.2000\\\\\n",
       "\t X & 400132 & 0.0000000 & 0.0000000 &    NaN\\\\\n",
       "\t X & 400148 & 0.0000000 & 0.0000000 &    NaN\\\\\n",
       "\t X & 400303 & 0.4687500 & 0.5000000 & 0.0625\\\\\n",
       "\\end{tabular}\n"
      ],
      "text/markdown": [
       "\n",
       "A tibble: 6 × 5\n",
       "\n",
       "| chr &lt;chr&gt; | snp_pos &lt;int&gt; | H_S &lt;dbl&gt; | H_T &lt;dbl&gt; | FST &lt;dbl&gt; |\n",
       "|---|---|---|---|---|\n",
       "| X | 365712 | 0.0000000 | 0.0000000 |    NaN |\n",
       "| X | 400000 | 0.0000000 | 0.0000000 |    NaN |\n",
       "| X | 400108 | 0.2222222 | 0.2777778 | 0.2000 |\n",
       "| X | 400132 | 0.0000000 | 0.0000000 |    NaN |\n",
       "| X | 400148 | 0.0000000 | 0.0000000 |    NaN |\n",
       "| X | 400303 | 0.4687500 | 0.5000000 | 0.0625 |\n",
       "\n"
      ],
      "text/plain": [
       "  chr snp_pos H_S       H_T       FST   \n",
       "1 X   365712  0.0000000 0.0000000    NaN\n",
       "2 X   400000  0.0000000 0.0000000    NaN\n",
       "3 X   400108  0.2222222 0.2777778 0.2000\n",
       "4 X   400132  0.0000000 0.0000000    NaN\n",
       "5 X   400148  0.0000000 0.0000000    NaN\n",
       "6 X   400303  0.4687500 0.5000000 0.0625"
      ]
     },
     "metadata": {},
     "output_type": "display_data"
    },
    {
     "data": {
      "text/html": [
       "<style>\n",
       ".list-inline {list-style: none; margin:0; padding: 0}\n",
       ".list-inline>li {display: inline-block}\n",
       ".list-inline>li:not(:last-child)::after {content: \"\\00b7\"; padding: 0 .5ex}\n",
       "</style>\n",
       "<ol class=list-inline><li>1</li><li>2</li><li>4</li><li>5</li><li>7</li><li>11</li></ol>\n"
      ],
      "text/latex": [
       "\\begin{enumerate*}\n",
       "\\item 1\n",
       "\\item 2\n",
       "\\item 4\n",
       "\\item 5\n",
       "\\item 7\n",
       "\\item 11\n",
       "\\end{enumerate*}\n"
      ],
      "text/markdown": [
       "1. 1\n",
       "2. 2\n",
       "3. 4\n",
       "4. 5\n",
       "5. 7\n",
       "6. 11\n",
       "\n",
       "\n"
      ],
      "text/plain": [
       "[1]  1  2  4  5  7 11"
      ]
     },
     "metadata": {},
     "output_type": "display_data"
    },
    {
     "data": {
      "text/html": [
       "288424"
      ],
      "text/latex": [
       "288424"
      ],
      "text/markdown": [
       "288424"
      ],
      "text/plain": [
       "[1] 288424"
      ]
     },
     "metadata": {},
     "output_type": "display_data"
    },
    {
     "name": "stdout",
     "output_type": "stream",
     "text": [
      "[1] \"EastAsia-Oceania\"\n",
      "[1] \"here\"\n"
     ]
    },
    {
     "data": {
      "text/html": [
       "<table class=\"dataframe\">\n",
       "<caption>A tibble: 6 × 5</caption>\n",
       "<thead>\n",
       "\t<tr><th scope=col>chr</th><th scope=col>snp_pos</th><th scope=col>H_S</th><th scope=col>H_T</th><th scope=col>FST</th></tr>\n",
       "\t<tr><th scope=col>&lt;chr&gt;</th><th scope=col>&lt;int&gt;</th><th scope=col>&lt;dbl&gt;</th><th scope=col>&lt;dbl&gt;</th><th scope=col>&lt;dbl&gt;</th></tr>\n",
       "</thead>\n",
       "<tbody>\n",
       "\t<tr><td>X</td><td>365712</td><td>0.07638889</td><td>0.07986111</td><td>0.043478261</td></tr>\n",
       "\t<tr><td>X</td><td>400000</td><td>0.00000000</td><td>0.00000000</td><td>        NaN</td></tr>\n",
       "\t<tr><td>X</td><td>400108</td><td>0.29861111</td><td>0.46875000</td><td>0.362962963</td></tr>\n",
       "\t<tr><td>X</td><td>400132</td><td>0.00000000</td><td>0.00000000</td><td>        NaN</td></tr>\n",
       "\t<tr><td>X</td><td>400148</td><td>0.00000000</td><td>0.00000000</td><td>        NaN</td></tr>\n",
       "\t<tr><td>X</td><td>400303</td><td>0.45659722</td><td>0.45746528</td><td>0.001897533</td></tr>\n",
       "</tbody>\n",
       "</table>\n"
      ],
      "text/latex": [
       "A tibble: 6 × 5\n",
       "\\begin{tabular}{lllll}\n",
       " chr & snp\\_pos & H\\_S & H\\_T & FST\\\\\n",
       " <chr> & <int> & <dbl> & <dbl> & <dbl>\\\\\n",
       "\\hline\n",
       "\t X & 365712 & 0.07638889 & 0.07986111 & 0.043478261\\\\\n",
       "\t X & 400000 & 0.00000000 & 0.00000000 &         NaN\\\\\n",
       "\t X & 400108 & 0.29861111 & 0.46875000 & 0.362962963\\\\\n",
       "\t X & 400132 & 0.00000000 & 0.00000000 &         NaN\\\\\n",
       "\t X & 400148 & 0.00000000 & 0.00000000 &         NaN\\\\\n",
       "\t X & 400303 & 0.45659722 & 0.45746528 & 0.001897533\\\\\n",
       "\\end{tabular}\n"
      ],
      "text/markdown": [
       "\n",
       "A tibble: 6 × 5\n",
       "\n",
       "| chr &lt;chr&gt; | snp_pos &lt;int&gt; | H_S &lt;dbl&gt; | H_T &lt;dbl&gt; | FST &lt;dbl&gt; |\n",
       "|---|---|---|---|---|\n",
       "| X | 365712 | 0.07638889 | 0.07986111 | 0.043478261 |\n",
       "| X | 400000 | 0.00000000 | 0.00000000 |         NaN |\n",
       "| X | 400108 | 0.29861111 | 0.46875000 | 0.362962963 |\n",
       "| X | 400132 | 0.00000000 | 0.00000000 |         NaN |\n",
       "| X | 400148 | 0.00000000 | 0.00000000 |         NaN |\n",
       "| X | 400303 | 0.45659722 | 0.45746528 | 0.001897533 |\n",
       "\n"
      ],
      "text/plain": [
       "  chr snp_pos H_S        H_T        FST        \n",
       "1 X   365712  0.07638889 0.07986111 0.043478261\n",
       "2 X   400000  0.00000000 0.00000000         NaN\n",
       "3 X   400108  0.29861111 0.46875000 0.362962963\n",
       "4 X   400132  0.00000000 0.00000000         NaN\n",
       "5 X   400148  0.00000000 0.00000000         NaN\n",
       "6 X   400303  0.45659722 0.45746528 0.001897533"
      ]
     },
     "metadata": {},
     "output_type": "display_data"
    },
    {
     "data": {
      "text/html": [
       "<style>\n",
       ".list-inline {list-style: none; margin:0; padding: 0}\n",
       ".list-inline>li {display: inline-block}\n",
       ".list-inline>li:not(:last-child)::after {content: \"\\00b7\"; padding: 0 .5ex}\n",
       "</style>\n",
       "<ol class=list-inline><li>2</li><li>4</li><li>5</li><li>7</li><li>8</li><li>11</li></ol>\n"
      ],
      "text/latex": [
       "\\begin{enumerate*}\n",
       "\\item 2\n",
       "\\item 4\n",
       "\\item 5\n",
       "\\item 7\n",
       "\\item 8\n",
       "\\item 11\n",
       "\\end{enumerate*}\n"
      ],
      "text/markdown": [
       "1. 2\n",
       "2. 4\n",
       "3. 5\n",
       "4. 7\n",
       "5. 8\n",
       "6. 11\n",
       "\n",
       "\n"
      ],
      "text/plain": [
       "[1]  2  4  5  7  8 11"
      ]
     },
     "metadata": {},
     "output_type": "display_data"
    },
    {
     "data": {
      "text/html": [
       "278057"
      ],
      "text/latex": [
       "278057"
      ],
      "text/markdown": [
       "278057"
      ],
      "text/plain": [
       "[1] 278057"
      ]
     },
     "metadata": {},
     "output_type": "display_data"
    },
    {
     "name": "stdout",
     "output_type": "stream",
     "text": [
      "[1] \"SouthAsia-America\"\n"
     ]
    }
   ],
   "source": [
    "#between South Asia and Africa.\n",
    "print(\"SouthAsia - Africa\")\n",
    "FST_AF_SA_per_position <- FST_per_position(res_scan, c(\"SouthAsia\", \"Africa\"))\n",
    "head(FST_AF_SA_per_position)\n",
    "write_delim(FST_AF_SA_per_position, \"FST_AF_SA_per_position.csv\", delim = \"\\t\")\n",
    "\n",
    "missing_FST_AF_SA <- which(is.na(FST_AF_SA_per_position$FST))\n",
    "head(missing_FST_AF_SA)\n",
    "length(missing_FST_AF_SA)\n",
    "\n",
    "FST_AF_SA_per_position <- FST_AF_SA_per_position %>% mutate(FST = coalesce(FST, 0))\n",
    "\n",
    "#between Africa-America\n",
    "print(\"Africa-America\")\n",
    "FST_AF_AM_per_position <- FST_per_position(res_scan, c(\"America\", \"Africa\"))\n",
    "head(FST_AF_AM_per_position)\n",
    "write_delim(FST_AF_AM_per_position, \"FST_AF_AM_per_position.csv\", delim = \"\\t\")\n",
    "\n",
    "missing_FST_AF_AM <- which(is.na(FST_AF_AM_per_position$FST))\n",
    "head(missing_FST_AF_AM)\n",
    "length(missing_FST_AF_AM)\n",
    "\n",
    "FST_AF_AM_per_position <- FST_AF_AM_per_position %>% mutate(FST = coalesce(FST, 0))\n",
    "\n",
    "#between Africa-CentralAsiaSiberia\n",
    "print(\"Africa-America\")\n",
    "FST_AF_CAS_per_position <- FST_per_position(res_scan, c(\"CentralAsiaSiberia\", \"Africa\"))\n",
    "head(FST_AF_CAS_per_position)\n",
    "write_delim(FST_AF_CAS_per_position, \"FST_AF_CAS_per_position.csv\", delim = \"\\t\")\n",
    "\n",
    "missing_FST_AF_CAS <- which(is.na(FST_AF_CAS_per_position$FST))\n",
    "head(missing_FST_AF_CAS)\n",
    "length(missing_FST_AF_CAS)\n",
    "\n",
    "FST_AF_CAS_per_position <- FST_AF_CAS_per_position %>% mutate(FST = coalesce(FST, 0))\n",
    "\n",
    "#between Africa-Oceania\n",
    "print(\"Africa-Oceania\")\n",
    "FST_AF_O_per_position <- FST_per_position(res_scan, c(\"Oceania\", \"Africa\"))\n",
    "head(FST_AF_O_per_position)\n",
    "write_delim(FST_AF_O_per_position, \"FST_AF_O_per_position.csv\", delim = \"\\t\")\n",
    "\n",
    "missing_FST_AF_O <- which(is.na(FST_AF_O_per_position$FST))\n",
    "head(missing_FST_AF_O)\n",
    "length(missing_FST_AF_O)\n",
    "\n",
    "FST_AF_O_per_position <- FST_AF_O_per_position %>% mutate(FST = coalesce(FST, 0))\n",
    "\n",
    "#################################################################################\n",
    "\n",
    "#between EastAsia-SouthAsia\n",
    "print(\"EastAsia-SouthAsia\")\n",
    "FST_EA_SA_per_position <- FST_per_position(res_scan, c(\"SouthAsia\", \"EastAsia\"))\n",
    "head(FST_EA_SA_per_position)\n",
    "write_delim(FST_EA_SA_per_position, \"FST_EA_SA_per_position.csv\", delim = \"\\t\")\n",
    "\n",
    "missing_FST_EA_SA <- which(is.na(FST_EA_SA_per_position$FST))\n",
    "head(missing_FST_EA_SA)\n",
    "length(missing_FST_EA_SA)\n",
    "\n",
    "FST_EA_SA_per_position <- FST_EA_SA_per_position %>% mutate(FST = coalesce(FST, 0))\n",
    "\n",
    "#between EastAsia-America\n",
    "print(\"EastAsia-America\")\n",
    "FST_EA_AM_per_position <- FST_per_position(res_scan, c(\"America\", \"EastAsia\"))\n",
    "head(FST_EA_AM_per_position)\n",
    "write_delim(FST_EA_AM_per_position, \"FST_EA_AM_per_position.csv\", delim = \"\\t\")\n",
    "\n",
    "missing_FST_EA_AM <- which(is.na(FST_EA_AM_per_position$FST))\n",
    "head(missing_FST_EA_AM)\n",
    "length(missing_FST_EA_AM)\n",
    "\n",
    "FST_EA_AM_per_position <- FST_EA_AM_per_position %>% mutate(FST = coalesce(FST, 0))\n",
    "\n",
    "#between EastAsia-CentralAsiaSiberia\n",
    "print(\"EastAsia-CentralAsiaSiberia\")\n",
    "FST_EA_CAS_per_position <- FST_per_position(res_scan, c(\"CentralAsiaSiberia\", \"EastAsia\"))\n",
    "head(FST_EA_CAS_per_position)\n",
    "write_delim(FST_EA_CAS_per_position, \"FST_EA_CAS_per_position.csv\", delim = \"\\t\")\n",
    "\n",
    "missing_FST_EA_CAS <- which(is.na(FST_EA_CAS_per_position$FST))\n",
    "head(missing_FST_EA_CAS)\n",
    "length(missing_FST_EA_CAS)\n",
    "\n",
    "FST_EA_CAS_per_position <- FST_EA_CAS_per_position %>% mutate(FST = coalesce(FST, 0))\n",
    "\n",
    "#between EastAsia-Oceania\n",
    "print(\"EastAsia-Oceania\")\n",
    "FST_EA_O_per_position <- FST_per_position(res_scan, c(\"Oceania\", \"EastAsia\"))\n",
    "head(FST_EA_O_per_position)\n",
    "write_delim(FST_EA_O_per_position, \"FST_EA_O_per_position.csv\", delim = \"\\t\")\n",
    "\n",
    "missing_FST_EA_O <- which(is.na(FST_EA_O_per_position$FST))\n",
    "head(missing_FST_EA_O)\n",
    "length(missing_FST_EA_O)\n",
    "\n",
    "FST_EA_O_per_position <- FST_EA_O_per_position %>% mutate(FST = coalesce(FST, 0))\n",
    "\n"
   ]
  },
  {
   "cell_type": "code",
   "execution_count": 9,
   "id": "later-european",
   "metadata": {},
   "outputs": [
    {
     "name": "stdout",
     "output_type": "stream",
     "text": [
      "[1] \"SouthAsia-America\"\n",
      "[1] \"here\"\n"
     ]
    },
    {
     "data": {
      "text/html": [
       "<table class=\"dataframe\">\n",
       "<caption>A tibble: 6 × 5</caption>\n",
       "<thead>\n",
       "\t<tr><th scope=col>chr</th><th scope=col>snp_pos</th><th scope=col>H_S</th><th scope=col>H_T</th><th scope=col>FST</th></tr>\n",
       "\t<tr><th scope=col>&lt;chr&gt;</th><th scope=col>&lt;int&gt;</th><th scope=col>&lt;dbl&gt;</th><th scope=col>&lt;dbl&gt;</th><th scope=col>&lt;dbl&gt;</th></tr>\n",
       "</thead>\n",
       "<tbody>\n",
       "\t<tr><td>X</td><td>365712</td><td>0.00000000</td><td>0.00000000</td><td>       NaN</td></tr>\n",
       "\t<tr><td>X</td><td>400000</td><td>0.00000000</td><td>0.00000000</td><td>       NaN</td></tr>\n",
       "\t<tr><td>X</td><td>400108</td><td>0.24000000</td><td>0.32000000</td><td>0.25000000</td></tr>\n",
       "\t<tr><td>X</td><td>400132</td><td>0.00000000</td><td>0.00000000</td><td>       NaN</td></tr>\n",
       "\t<tr><td>X</td><td>400148</td><td>0.03222222</td><td>0.03277778</td><td>0.01694915</td></tr>\n",
       "\t<tr><td>X</td><td>400303</td><td>0.33444444</td><td>0.33944444</td><td>0.01472995</td></tr>\n",
       "</tbody>\n",
       "</table>\n"
      ],
      "text/latex": [
       "A tibble: 6 × 5\n",
       "\\begin{tabular}{lllll}\n",
       " chr & snp\\_pos & H\\_S & H\\_T & FST\\\\\n",
       " <chr> & <int> & <dbl> & <dbl> & <dbl>\\\\\n",
       "\\hline\n",
       "\t X & 365712 & 0.00000000 & 0.00000000 &        NaN\\\\\n",
       "\t X & 400000 & 0.00000000 & 0.00000000 &        NaN\\\\\n",
       "\t X & 400108 & 0.24000000 & 0.32000000 & 0.25000000\\\\\n",
       "\t X & 400132 & 0.00000000 & 0.00000000 &        NaN\\\\\n",
       "\t X & 400148 & 0.03222222 & 0.03277778 & 0.01694915\\\\\n",
       "\t X & 400303 & 0.33444444 & 0.33944444 & 0.01472995\\\\\n",
       "\\end{tabular}\n"
      ],
      "text/markdown": [
       "\n",
       "A tibble: 6 × 5\n",
       "\n",
       "| chr &lt;chr&gt; | snp_pos &lt;int&gt; | H_S &lt;dbl&gt; | H_T &lt;dbl&gt; | FST &lt;dbl&gt; |\n",
       "|---|---|---|---|---|\n",
       "| X | 365712 | 0.00000000 | 0.00000000 |        NaN |\n",
       "| X | 400000 | 0.00000000 | 0.00000000 |        NaN |\n",
       "| X | 400108 | 0.24000000 | 0.32000000 | 0.25000000 |\n",
       "| X | 400132 | 0.00000000 | 0.00000000 |        NaN |\n",
       "| X | 400148 | 0.03222222 | 0.03277778 | 0.01694915 |\n",
       "| X | 400303 | 0.33444444 | 0.33944444 | 0.01472995 |\n",
       "\n"
      ],
      "text/plain": [
       "  chr snp_pos H_S        H_T        FST       \n",
       "1 X   365712  0.00000000 0.00000000        NaN\n",
       "2 X   400000  0.00000000 0.00000000        NaN\n",
       "3 X   400108  0.24000000 0.32000000 0.25000000\n",
       "4 X   400132  0.00000000 0.00000000        NaN\n",
       "5 X   400148  0.03222222 0.03277778 0.01694915\n",
       "6 X   400303  0.33444444 0.33944444 0.01472995"
      ]
     },
     "metadata": {},
     "output_type": "display_data"
    },
    {
     "data": {
      "text/html": [
       "<style>\n",
       ".list-inline {list-style: none; margin:0; padding: 0}\n",
       ".list-inline>li {display: inline-block}\n",
       ".list-inline>li:not(:last-child)::after {content: \"\\00b7\"; padding: 0 .5ex}\n",
       "</style>\n",
       "<ol class=list-inline><li>1</li><li>2</li><li>4</li><li>7</li><li>8</li><li>10</li></ol>\n"
      ],
      "text/latex": [
       "\\begin{enumerate*}\n",
       "\\item 1\n",
       "\\item 2\n",
       "\\item 4\n",
       "\\item 7\n",
       "\\item 8\n",
       "\\item 10\n",
       "\\end{enumerate*}\n"
      ],
      "text/markdown": [
       "1. 1\n",
       "2. 2\n",
       "3. 4\n",
       "4. 7\n",
       "5. 8\n",
       "6. 10\n",
       "\n",
       "\n"
      ],
      "text/plain": [
       "[1]  1  2  4  7  8 10"
      ]
     },
     "metadata": {},
     "output_type": "display_data"
    },
    {
     "data": {
      "text/html": [
       "271969"
      ],
      "text/latex": [
       "271969"
      ],
      "text/markdown": [
       "271969"
      ],
      "text/plain": [
       "[1] 271969"
      ]
     },
     "metadata": {},
     "output_type": "display_data"
    },
    {
     "name": "stdout",
     "output_type": "stream",
     "text": [
      "[1] \"SouthAsia-CentralAsiaSiberia\"\n",
      "[1] \"here\"\n"
     ]
    },
    {
     "data": {
      "text/html": [
       "<table class=\"dataframe\">\n",
       "<caption>A tibble: 6 × 5</caption>\n",
       "<thead>\n",
       "\t<tr><th scope=col>chr</th><th scope=col>snp_pos</th><th scope=col>H_S</th><th scope=col>H_T</th><th scope=col>FST</th></tr>\n",
       "\t<tr><th scope=col>&lt;chr&gt;</th><th scope=col>&lt;int&gt;</th><th scope=col>&lt;dbl&gt;</th><th scope=col>&lt;dbl&gt;</th><th scope=col>&lt;dbl&gt;</th></tr>\n",
       "</thead>\n",
       "<tbody>\n",
       "\t<tr><td>X</td><td>365712</td><td>0.00000000</td><td>0.00000000</td><td>       NaN</td></tr>\n",
       "\t<tr><td>X</td><td>400000</td><td>0.00000000</td><td>0.00000000</td><td>       NaN</td></tr>\n",
       "\t<tr><td>X</td><td>400108</td><td>0.24000000</td><td>0.32000000</td><td>0.25000000</td></tr>\n",
       "\t<tr><td>X</td><td>400132</td><td>0.00000000</td><td>0.00000000</td><td>       NaN</td></tr>\n",
       "\t<tr><td>X</td><td>400148</td><td>0.03222222</td><td>0.03277778</td><td>0.01694915</td></tr>\n",
       "\t<tr><td>X</td><td>400303</td><td>0.42993056</td><td>0.49413194</td><td>0.12992762</td></tr>\n",
       "</tbody>\n",
       "</table>\n"
      ],
      "text/latex": [
       "A tibble: 6 × 5\n",
       "\\begin{tabular}{lllll}\n",
       " chr & snp\\_pos & H\\_S & H\\_T & FST\\\\\n",
       " <chr> & <int> & <dbl> & <dbl> & <dbl>\\\\\n",
       "\\hline\n",
       "\t X & 365712 & 0.00000000 & 0.00000000 &        NaN\\\\\n",
       "\t X & 400000 & 0.00000000 & 0.00000000 &        NaN\\\\\n",
       "\t X & 400108 & 0.24000000 & 0.32000000 & 0.25000000\\\\\n",
       "\t X & 400132 & 0.00000000 & 0.00000000 &        NaN\\\\\n",
       "\t X & 400148 & 0.03222222 & 0.03277778 & 0.01694915\\\\\n",
       "\t X & 400303 & 0.42993056 & 0.49413194 & 0.12992762\\\\\n",
       "\\end{tabular}\n"
      ],
      "text/markdown": [
       "\n",
       "A tibble: 6 × 5\n",
       "\n",
       "| chr &lt;chr&gt; | snp_pos &lt;int&gt; | H_S &lt;dbl&gt; | H_T &lt;dbl&gt; | FST &lt;dbl&gt; |\n",
       "|---|---|---|---|---|\n",
       "| X | 365712 | 0.00000000 | 0.00000000 |        NaN |\n",
       "| X | 400000 | 0.00000000 | 0.00000000 |        NaN |\n",
       "| X | 400108 | 0.24000000 | 0.32000000 | 0.25000000 |\n",
       "| X | 400132 | 0.00000000 | 0.00000000 |        NaN |\n",
       "| X | 400148 | 0.03222222 | 0.03277778 | 0.01694915 |\n",
       "| X | 400303 | 0.42993056 | 0.49413194 | 0.12992762 |\n",
       "\n"
      ],
      "text/plain": [
       "  chr snp_pos H_S        H_T        FST       \n",
       "1 X   365712  0.00000000 0.00000000        NaN\n",
       "2 X   400000  0.00000000 0.00000000        NaN\n",
       "3 X   400108  0.24000000 0.32000000 0.25000000\n",
       "4 X   400132  0.00000000 0.00000000        NaN\n",
       "5 X   400148  0.03222222 0.03277778 0.01694915\n",
       "6 X   400303  0.42993056 0.49413194 0.12992762"
      ]
     },
     "metadata": {},
     "output_type": "display_data"
    },
    {
     "data": {
      "text/html": [
       "<style>\n",
       ".list-inline {list-style: none; margin:0; padding: 0}\n",
       ".list-inline>li {display: inline-block}\n",
       ".list-inline>li:not(:last-child)::after {content: \"\\00b7\"; padding: 0 .5ex}\n",
       "</style>\n",
       "<ol class=list-inline><li>1</li><li>2</li><li>4</li><li>7</li><li>10</li><li>11</li></ol>\n"
      ],
      "text/latex": [
       "\\begin{enumerate*}\n",
       "\\item 1\n",
       "\\item 2\n",
       "\\item 4\n",
       "\\item 7\n",
       "\\item 10\n",
       "\\item 11\n",
       "\\end{enumerate*}\n"
      ],
      "text/markdown": [
       "1. 1\n",
       "2. 2\n",
       "3. 4\n",
       "4. 7\n",
       "5. 10\n",
       "6. 11\n",
       "\n",
       "\n"
      ],
      "text/plain": [
       "[1]  1  2  4  7 10 11"
      ]
     },
     "metadata": {},
     "output_type": "display_data"
    },
    {
     "data": {
      "text/html": [
       "268105"
      ],
      "text/latex": [
       "268105"
      ],
      "text/markdown": [
       "268105"
      ],
      "text/plain": [
       "[1] 268105"
      ]
     },
     "metadata": {},
     "output_type": "display_data"
    },
    {
     "name": "stdout",
     "output_type": "stream",
     "text": [
      "[1] \"SouthAsia-Oceania\"\n",
      "[1] \"here\"\n"
     ]
    },
    {
     "data": {
      "text/html": [
       "<table class=\"dataframe\">\n",
       "<caption>A tibble: 6 × 5</caption>\n",
       "<thead>\n",
       "\t<tr><th scope=col>chr</th><th scope=col>snp_pos</th><th scope=col>H_S</th><th scope=col>H_T</th><th scope=col>FST</th></tr>\n",
       "\t<tr><th scope=col>&lt;chr&gt;</th><th scope=col>&lt;int&gt;</th><th scope=col>&lt;dbl&gt;</th><th scope=col>&lt;dbl&gt;</th><th scope=col>&lt;dbl&gt;</th></tr>\n",
       "</thead>\n",
       "<tbody>\n",
       "\t<tr><td>X</td><td>365712</td><td>0.07638889</td><td>0.07986111</td><td>0.043478261</td></tr>\n",
       "\t<tr><td>X</td><td>400000</td><td>0.00000000</td><td>0.00000000</td><td>        NaN</td></tr>\n",
       "\t<tr><td>X</td><td>400108</td><td>0.31638889</td><td>0.44986111</td><td>0.296696511</td></tr>\n",
       "\t<tr><td>X</td><td>400132</td><td>0.00000000</td><td>0.00000000</td><td>        NaN</td></tr>\n",
       "\t<tr><td>X</td><td>400148</td><td>0.03222222</td><td>0.03277778</td><td>0.016949153</td></tr>\n",
       "\t<tr><td>X</td><td>400303</td><td>0.41777778</td><td>0.42000000</td><td>0.005291005</td></tr>\n",
       "</tbody>\n",
       "</table>\n"
      ],
      "text/latex": [
       "A tibble: 6 × 5\n",
       "\\begin{tabular}{lllll}\n",
       " chr & snp\\_pos & H\\_S & H\\_T & FST\\\\\n",
       " <chr> & <int> & <dbl> & <dbl> & <dbl>\\\\\n",
       "\\hline\n",
       "\t X & 365712 & 0.07638889 & 0.07986111 & 0.043478261\\\\\n",
       "\t X & 400000 & 0.00000000 & 0.00000000 &         NaN\\\\\n",
       "\t X & 400108 & 0.31638889 & 0.44986111 & 0.296696511\\\\\n",
       "\t X & 400132 & 0.00000000 & 0.00000000 &         NaN\\\\\n",
       "\t X & 400148 & 0.03222222 & 0.03277778 & 0.016949153\\\\\n",
       "\t X & 400303 & 0.41777778 & 0.42000000 & 0.005291005\\\\\n",
       "\\end{tabular}\n"
      ],
      "text/markdown": [
       "\n",
       "A tibble: 6 × 5\n",
       "\n",
       "| chr &lt;chr&gt; | snp_pos &lt;int&gt; | H_S &lt;dbl&gt; | H_T &lt;dbl&gt; | FST &lt;dbl&gt; |\n",
       "|---|---|---|---|---|\n",
       "| X | 365712 | 0.07638889 | 0.07986111 | 0.043478261 |\n",
       "| X | 400000 | 0.00000000 | 0.00000000 |         NaN |\n",
       "| X | 400108 | 0.31638889 | 0.44986111 | 0.296696511 |\n",
       "| X | 400132 | 0.00000000 | 0.00000000 |         NaN |\n",
       "| X | 400148 | 0.03222222 | 0.03277778 | 0.016949153 |\n",
       "| X | 400303 | 0.41777778 | 0.42000000 | 0.005291005 |\n",
       "\n"
      ],
      "text/plain": [
       "  chr snp_pos H_S        H_T        FST        \n",
       "1 X   365712  0.07638889 0.07986111 0.043478261\n",
       "2 X   400000  0.00000000 0.00000000         NaN\n",
       "3 X   400108  0.31638889 0.44986111 0.296696511\n",
       "4 X   400132  0.00000000 0.00000000         NaN\n",
       "5 X   400148  0.03222222 0.03277778 0.016949153\n",
       "6 X   400303  0.41777778 0.42000000 0.005291005"
      ]
     },
     "metadata": {},
     "output_type": "display_data"
    },
    {
     "data": {
      "text/html": [
       "<style>\n",
       ".list-inline {list-style: none; margin:0; padding: 0}\n",
       ".list-inline>li {display: inline-block}\n",
       ".list-inline>li:not(:last-child)::after {content: \"\\00b7\"; padding: 0 .5ex}\n",
       "</style>\n",
       "<ol class=list-inline><li>2</li><li>4</li><li>7</li><li>8</li><li>10</li><li>11</li></ol>\n"
      ],
      "text/latex": [
       "\\begin{enumerate*}\n",
       "\\item 2\n",
       "\\item 4\n",
       "\\item 7\n",
       "\\item 8\n",
       "\\item 10\n",
       "\\item 11\n",
       "\\end{enumerate*}\n"
      ],
      "text/markdown": [
       "1. 2\n",
       "2. 4\n",
       "3. 7\n",
       "4. 8\n",
       "5. 10\n",
       "6. 11\n",
       "\n",
       "\n"
      ],
      "text/plain": [
       "[1]  2  4  7  8 10 11"
      ]
     },
     "metadata": {},
     "output_type": "display_data"
    },
    {
     "data": {
      "text/html": [
       "259172"
      ],
      "text/latex": [
       "259172"
      ],
      "text/markdown": [
       "259172"
      ],
      "text/plain": [
       "[1] 259172"
      ]
     },
     "metadata": {},
     "output_type": "display_data"
    },
    {
     "name": "stdout",
     "output_type": "stream",
     "text": [
      "[1] \"SouthAsia-WestEurasia\"\n",
      "[1] \"here\"\n"
     ]
    },
    {
     "data": {
      "text/html": [
       "<table class=\"dataframe\">\n",
       "<caption>A tibble: 6 × 5</caption>\n",
       "<thead>\n",
       "\t<tr><th scope=col>chr</th><th scope=col>snp_pos</th><th scope=col>H_S</th><th scope=col>H_T</th><th scope=col>FST</th></tr>\n",
       "\t<tr><th scope=col>&lt;chr&gt;</th><th scope=col>&lt;int&gt;</th><th scope=col>&lt;dbl&gt;</th><th scope=col>&lt;dbl&gt;</th><th scope=col>&lt;dbl&gt;</th></tr>\n",
       "</thead>\n",
       "<tbody>\n",
       "\t<tr><td>X</td><td>365712</td><td>0.00000000</td><td>0.00000000</td><td>       NaN</td></tr>\n",
       "\t<tr><td>X</td><td>400000</td><td>0.00000000</td><td>0.00000000</td><td>       NaN</td></tr>\n",
       "\t<tr><td>X</td><td>400108</td><td>0.42750000</td><td>0.43875000</td><td>0.02564103</td></tr>\n",
       "\t<tr><td>X</td><td>400132</td><td>0.00000000</td><td>0.00000000</td><td>       NaN</td></tr>\n",
       "\t<tr><td>X</td><td>400148</td><td>0.03222222</td><td>0.03277778</td><td>0.01694915</td></tr>\n",
       "\t<tr><td>X</td><td>400303</td><td>0.42696051</td><td>0.49529844</td><td>0.13797323</td></tr>\n",
       "</tbody>\n",
       "</table>\n"
      ],
      "text/latex": [
       "A tibble: 6 × 5\n",
       "\\begin{tabular}{lllll}\n",
       " chr & snp\\_pos & H\\_S & H\\_T & FST\\\\\n",
       " <chr> & <int> & <dbl> & <dbl> & <dbl>\\\\\n",
       "\\hline\n",
       "\t X & 365712 & 0.00000000 & 0.00000000 &        NaN\\\\\n",
       "\t X & 400000 & 0.00000000 & 0.00000000 &        NaN\\\\\n",
       "\t X & 400108 & 0.42750000 & 0.43875000 & 0.02564103\\\\\n",
       "\t X & 400132 & 0.00000000 & 0.00000000 &        NaN\\\\\n",
       "\t X & 400148 & 0.03222222 & 0.03277778 & 0.01694915\\\\\n",
       "\t X & 400303 & 0.42696051 & 0.49529844 & 0.13797323\\\\\n",
       "\\end{tabular}\n"
      ],
      "text/markdown": [
       "\n",
       "A tibble: 6 × 5\n",
       "\n",
       "| chr &lt;chr&gt; | snp_pos &lt;int&gt; | H_S &lt;dbl&gt; | H_T &lt;dbl&gt; | FST &lt;dbl&gt; |\n",
       "|---|---|---|---|---|\n",
       "| X | 365712 | 0.00000000 | 0.00000000 |        NaN |\n",
       "| X | 400000 | 0.00000000 | 0.00000000 |        NaN |\n",
       "| X | 400108 | 0.42750000 | 0.43875000 | 0.02564103 |\n",
       "| X | 400132 | 0.00000000 | 0.00000000 |        NaN |\n",
       "| X | 400148 | 0.03222222 | 0.03277778 | 0.01694915 |\n",
       "| X | 400303 | 0.42696051 | 0.49529844 | 0.13797323 |\n",
       "\n"
      ],
      "text/plain": [
       "  chr snp_pos H_S        H_T        FST       \n",
       "1 X   365712  0.00000000 0.00000000        NaN\n",
       "2 X   400000  0.00000000 0.00000000        NaN\n",
       "3 X   400108  0.42750000 0.43875000 0.02564103\n",
       "4 X   400132  0.00000000 0.00000000        NaN\n",
       "5 X   400148  0.03222222 0.03277778 0.01694915\n",
       "6 X   400303  0.42696051 0.49529844 0.13797323"
      ]
     },
     "metadata": {},
     "output_type": "display_data"
    },
    {
     "data": {
      "text/html": [
       "<style>\n",
       ".list-inline {list-style: none; margin:0; padding: 0}\n",
       ".list-inline>li {display: inline-block}\n",
       ".list-inline>li:not(:last-child)::after {content: \"\\00b7\"; padding: 0 .5ex}\n",
       "</style>\n",
       "<ol class=list-inline><li>1</li><li>2</li><li>4</li><li>7</li><li>8</li><li>11</li></ol>\n"
      ],
      "text/latex": [
       "\\begin{enumerate*}\n",
       "\\item 1\n",
       "\\item 2\n",
       "\\item 4\n",
       "\\item 7\n",
       "\\item 8\n",
       "\\item 11\n",
       "\\end{enumerate*}\n"
      ],
      "text/markdown": [
       "1. 1\n",
       "2. 2\n",
       "3. 4\n",
       "4. 7\n",
       "5. 8\n",
       "6. 11\n",
       "\n",
       "\n"
      ],
      "text/plain": [
       "[1]  1  2  4  7  8 11"
      ]
     },
     "metadata": {},
     "output_type": "display_data"
    },
    {
     "data": {
      "text/html": [
       "217104"
      ],
      "text/latex": [
       "217104"
      ],
      "text/markdown": [
       "217104"
      ],
      "text/plain": [
       "[1] 217104"
      ]
     },
     "metadata": {},
     "output_type": "display_data"
    },
    {
     "name": "stdout",
     "output_type": "stream",
     "text": [
      "[1] \"America-CentralAsiaSiberia\"\n",
      "[1] \"here\"\n"
     ]
    },
    {
     "data": {
      "text/html": [
       "<table class=\"dataframe\">\n",
       "<caption>A tibble: 6 × 5</caption>\n",
       "<thead>\n",
       "\t<tr><th scope=col>chr</th><th scope=col>snp_pos</th><th scope=col>H_S</th><th scope=col>H_T</th><th scope=col>FST</th></tr>\n",
       "\t<tr><th scope=col>&lt;chr&gt;</th><th scope=col>&lt;int&gt;</th><th scope=col>&lt;dbl&gt;</th><th scope=col>&lt;dbl&gt;</th><th scope=col>&lt;dbl&gt;</th></tr>\n",
       "</thead>\n",
       "<tbody>\n",
       "\t<tr><td>X</td><td>365712</td><td>0.0000000</td><td>0.0000000</td><td>      NaN</td></tr>\n",
       "\t<tr><td>X</td><td>400000</td><td>0.0000000</td><td>0.0000000</td><td>      NaN</td></tr>\n",
       "\t<tr><td>X</td><td>400108</td><td>0.0000000</td><td>0.0000000</td><td>      NaN</td></tr>\n",
       "\t<tr><td>X</td><td>400132</td><td>0.0000000</td><td>0.0000000</td><td>      NaN</td></tr>\n",
       "\t<tr><td>X</td><td>400148</td><td>0.0000000</td><td>0.0000000</td><td>      NaN</td></tr>\n",
       "\t<tr><td>X</td><td>400303</td><td>0.3732639</td><td>0.4782986</td><td>0.2196007</td></tr>\n",
       "</tbody>\n",
       "</table>\n"
      ],
      "text/latex": [
       "A tibble: 6 × 5\n",
       "\\begin{tabular}{lllll}\n",
       " chr & snp\\_pos & H\\_S & H\\_T & FST\\\\\n",
       " <chr> & <int> & <dbl> & <dbl> & <dbl>\\\\\n",
       "\\hline\n",
       "\t X & 365712 & 0.0000000 & 0.0000000 &       NaN\\\\\n",
       "\t X & 400000 & 0.0000000 & 0.0000000 &       NaN\\\\\n",
       "\t X & 400108 & 0.0000000 & 0.0000000 &       NaN\\\\\n",
       "\t X & 400132 & 0.0000000 & 0.0000000 &       NaN\\\\\n",
       "\t X & 400148 & 0.0000000 & 0.0000000 &       NaN\\\\\n",
       "\t X & 400303 & 0.3732639 & 0.4782986 & 0.2196007\\\\\n",
       "\\end{tabular}\n"
      ],
      "text/markdown": [
       "\n",
       "A tibble: 6 × 5\n",
       "\n",
       "| chr &lt;chr&gt; | snp_pos &lt;int&gt; | H_S &lt;dbl&gt; | H_T &lt;dbl&gt; | FST &lt;dbl&gt; |\n",
       "|---|---|---|---|---|\n",
       "| X | 365712 | 0.0000000 | 0.0000000 |       NaN |\n",
       "| X | 400000 | 0.0000000 | 0.0000000 |       NaN |\n",
       "| X | 400108 | 0.0000000 | 0.0000000 |       NaN |\n",
       "| X | 400132 | 0.0000000 | 0.0000000 |       NaN |\n",
       "| X | 400148 | 0.0000000 | 0.0000000 |       NaN |\n",
       "| X | 400303 | 0.3732639 | 0.4782986 | 0.2196007 |\n",
       "\n"
      ],
      "text/plain": [
       "  chr snp_pos H_S       H_T       FST      \n",
       "1 X   365712  0.0000000 0.0000000       NaN\n",
       "2 X   400000  0.0000000 0.0000000       NaN\n",
       "3 X   400108  0.0000000 0.0000000       NaN\n",
       "4 X   400132  0.0000000 0.0000000       NaN\n",
       "5 X   400148  0.0000000 0.0000000       NaN\n",
       "6 X   400303  0.3732639 0.4782986 0.2196007"
      ]
     },
     "metadata": {},
     "output_type": "display_data"
    },
    {
     "data": {
      "text/html": [
       "<style>\n",
       ".list-inline {list-style: none; margin:0; padding: 0}\n",
       ".list-inline>li {display: inline-block}\n",
       ".list-inline>li:not(:last-child)::after {content: \"\\00b7\"; padding: 0 .5ex}\n",
       "</style>\n",
       "<ol class=list-inline><li>1</li><li>2</li><li>3</li><li>4</li><li>5</li><li>7</li></ol>\n"
      ],
      "text/latex": [
       "\\begin{enumerate*}\n",
       "\\item 1\n",
       "\\item 2\n",
       "\\item 3\n",
       "\\item 4\n",
       "\\item 5\n",
       "\\item 7\n",
       "\\end{enumerate*}\n"
      ],
      "text/markdown": [
       "1. 1\n",
       "2. 2\n",
       "3. 3\n",
       "4. 4\n",
       "5. 5\n",
       "6. 7\n",
       "\n",
       "\n"
      ],
      "text/plain": [
       "[1] 1 2 3 4 5 7"
      ]
     },
     "metadata": {},
     "output_type": "display_data"
    },
    {
     "data": {
      "text/html": [
       "323889"
      ],
      "text/latex": [
       "323889"
      ],
      "text/markdown": [
       "323889"
      ],
      "text/plain": [
       "[1] 323889"
      ]
     },
     "metadata": {},
     "output_type": "display_data"
    },
    {
     "name": "stdout",
     "output_type": "stream",
     "text": [
      "[1] \"America-Oceania\"\n",
      "[1] \"here\"\n"
     ]
    },
    {
     "data": {
      "text/html": [
       "<table class=\"dataframe\">\n",
       "<caption>A tibble: 6 × 5</caption>\n",
       "<thead>\n",
       "\t<tr><th scope=col>chr</th><th scope=col>snp_pos</th><th scope=col>H_S</th><th scope=col>H_T</th><th scope=col>FST</th></tr>\n",
       "\t<tr><th scope=col>&lt;chr&gt;</th><th scope=col>&lt;int&gt;</th><th scope=col>&lt;dbl&gt;</th><th scope=col>&lt;dbl&gt;</th><th scope=col>&lt;dbl&gt;</th></tr>\n",
       "</thead>\n",
       "<tbody>\n",
       "\t<tr><td>X</td><td>365712</td><td>0.07638889</td><td>0.07986111</td><td>0.04347826</td></tr>\n",
       "\t<tr><td>X</td><td>400000</td><td>0.00000000</td><td>0.00000000</td><td>       NaN</td></tr>\n",
       "\t<tr><td>X</td><td>400108</td><td>0.07638889</td><td>0.49652778</td><td>0.84615385</td></tr>\n",
       "\t<tr><td>X</td><td>400132</td><td>0.00000000</td><td>0.00000000</td><td>       NaN</td></tr>\n",
       "\t<tr><td>X</td><td>400148</td><td>0.00000000</td><td>0.00000000</td><td>       NaN</td></tr>\n",
       "\t<tr><td>X</td><td>400303</td><td>0.36111111</td><td>0.37500000</td><td>0.03703704</td></tr>\n",
       "</tbody>\n",
       "</table>\n"
      ],
      "text/latex": [
       "A tibble: 6 × 5\n",
       "\\begin{tabular}{lllll}\n",
       " chr & snp\\_pos & H\\_S & H\\_T & FST\\\\\n",
       " <chr> & <int> & <dbl> & <dbl> & <dbl>\\\\\n",
       "\\hline\n",
       "\t X & 365712 & 0.07638889 & 0.07986111 & 0.04347826\\\\\n",
       "\t X & 400000 & 0.00000000 & 0.00000000 &        NaN\\\\\n",
       "\t X & 400108 & 0.07638889 & 0.49652778 & 0.84615385\\\\\n",
       "\t X & 400132 & 0.00000000 & 0.00000000 &        NaN\\\\\n",
       "\t X & 400148 & 0.00000000 & 0.00000000 &        NaN\\\\\n",
       "\t X & 400303 & 0.36111111 & 0.37500000 & 0.03703704\\\\\n",
       "\\end{tabular}\n"
      ],
      "text/markdown": [
       "\n",
       "A tibble: 6 × 5\n",
       "\n",
       "| chr &lt;chr&gt; | snp_pos &lt;int&gt; | H_S &lt;dbl&gt; | H_T &lt;dbl&gt; | FST &lt;dbl&gt; |\n",
       "|---|---|---|---|---|\n",
       "| X | 365712 | 0.07638889 | 0.07986111 | 0.04347826 |\n",
       "| X | 400000 | 0.00000000 | 0.00000000 |        NaN |\n",
       "| X | 400108 | 0.07638889 | 0.49652778 | 0.84615385 |\n",
       "| X | 400132 | 0.00000000 | 0.00000000 |        NaN |\n",
       "| X | 400148 | 0.00000000 | 0.00000000 |        NaN |\n",
       "| X | 400303 | 0.36111111 | 0.37500000 | 0.03703704 |\n",
       "\n"
      ],
      "text/plain": [
       "  chr snp_pos H_S        H_T        FST       \n",
       "1 X   365712  0.07638889 0.07986111 0.04347826\n",
       "2 X   400000  0.00000000 0.00000000        NaN\n",
       "3 X   400108  0.07638889 0.49652778 0.84615385\n",
       "4 X   400132  0.00000000 0.00000000        NaN\n",
       "5 X   400148  0.00000000 0.00000000        NaN\n",
       "6 X   400303  0.36111111 0.37500000 0.03703704"
      ]
     },
     "metadata": {},
     "output_type": "display_data"
    },
    {
     "data": {
      "text/html": [
       "<style>\n",
       ".list-inline {list-style: none; margin:0; padding: 0}\n",
       ".list-inline>li {display: inline-block}\n",
       ".list-inline>li:not(:last-child)::after {content: \"\\00b7\"; padding: 0 .5ex}\n",
       "</style>\n",
       "<ol class=list-inline><li>2</li><li>4</li><li>5</li><li>7</li><li>8</li><li>10</li></ol>\n"
      ],
      "text/latex": [
       "\\begin{enumerate*}\n",
       "\\item 2\n",
       "\\item 4\n",
       "\\item 5\n",
       "\\item 7\n",
       "\\item 8\n",
       "\\item 10\n",
       "\\end{enumerate*}\n"
      ],
      "text/markdown": [
       "1. 2\n",
       "2. 4\n",
       "3. 5\n",
       "4. 7\n",
       "5. 8\n",
       "6. 10\n",
       "\n",
       "\n"
      ],
      "text/plain": [
       "[1]  2  4  5  7  8 10"
      ]
     },
     "metadata": {},
     "output_type": "display_data"
    },
    {
     "data": {
      "text/html": [
       "313632"
      ],
      "text/latex": [
       "313632"
      ],
      "text/markdown": [
       "313632"
      ],
      "text/plain": [
       "[1] 313632"
      ]
     },
     "metadata": {},
     "output_type": "display_data"
    },
    {
     "name": "stdout",
     "output_type": "stream",
     "text": [
      "[1] \"America-WestEurasia\"\n",
      "[1] \"here\"\n"
     ]
    },
    {
     "data": {
      "text/html": [
       "<table class=\"dataframe\">\n",
       "<caption>A tibble: 6 × 5</caption>\n",
       "<thead>\n",
       "\t<tr><th scope=col>chr</th><th scope=col>snp_pos</th><th scope=col>H_S</th><th scope=col>H_T</th><th scope=col>FST</th></tr>\n",
       "\t<tr><th scope=col>&lt;chr&gt;</th><th scope=col>&lt;int&gt;</th><th scope=col>&lt;dbl&gt;</th><th scope=col>&lt;dbl&gt;</th><th scope=col>&lt;dbl&gt;</th></tr>\n",
       "</thead>\n",
       "<tbody>\n",
       "\t<tr><td>X</td><td>365712</td><td>0.0000000</td><td>0.0000000</td><td>      NaN</td></tr>\n",
       "\t<tr><td>X</td><td>400000</td><td>0.0000000</td><td>0.0000000</td><td>      NaN</td></tr>\n",
       "\t<tr><td>X</td><td>400108</td><td>0.1875000</td><td>0.2187500</td><td>0.1428571</td></tr>\n",
       "\t<tr><td>X</td><td>400132</td><td>0.0000000</td><td>0.0000000</td><td>      NaN</td></tr>\n",
       "\t<tr><td>X</td><td>400148</td><td>0.0000000</td><td>0.0000000</td><td>      NaN</td></tr>\n",
       "\t<tr><td>X</td><td>400303</td><td>0.3702938</td><td>0.4806015</td><td>0.2295199</td></tr>\n",
       "</tbody>\n",
       "</table>\n"
      ],
      "text/latex": [
       "A tibble: 6 × 5\n",
       "\\begin{tabular}{lllll}\n",
       " chr & snp\\_pos & H\\_S & H\\_T & FST\\\\\n",
       " <chr> & <int> & <dbl> & <dbl> & <dbl>\\\\\n",
       "\\hline\n",
       "\t X & 365712 & 0.0000000 & 0.0000000 &       NaN\\\\\n",
       "\t X & 400000 & 0.0000000 & 0.0000000 &       NaN\\\\\n",
       "\t X & 400108 & 0.1875000 & 0.2187500 & 0.1428571\\\\\n",
       "\t X & 400132 & 0.0000000 & 0.0000000 &       NaN\\\\\n",
       "\t X & 400148 & 0.0000000 & 0.0000000 &       NaN\\\\\n",
       "\t X & 400303 & 0.3702938 & 0.4806015 & 0.2295199\\\\\n",
       "\\end{tabular}\n"
      ],
      "text/markdown": [
       "\n",
       "A tibble: 6 × 5\n",
       "\n",
       "| chr &lt;chr&gt; | snp_pos &lt;int&gt; | H_S &lt;dbl&gt; | H_T &lt;dbl&gt; | FST &lt;dbl&gt; |\n",
       "|---|---|---|---|---|\n",
       "| X | 365712 | 0.0000000 | 0.0000000 |       NaN |\n",
       "| X | 400000 | 0.0000000 | 0.0000000 |       NaN |\n",
       "| X | 400108 | 0.1875000 | 0.2187500 | 0.1428571 |\n",
       "| X | 400132 | 0.0000000 | 0.0000000 |       NaN |\n",
       "| X | 400148 | 0.0000000 | 0.0000000 |       NaN |\n",
       "| X | 400303 | 0.3702938 | 0.4806015 | 0.2295199 |\n",
       "\n"
      ],
      "text/plain": [
       "  chr snp_pos H_S       H_T       FST      \n",
       "1 X   365712  0.0000000 0.0000000       NaN\n",
       "2 X   400000  0.0000000 0.0000000       NaN\n",
       "3 X   400108  0.1875000 0.2187500 0.1428571\n",
       "4 X   400132  0.0000000 0.0000000       NaN\n",
       "5 X   400148  0.0000000 0.0000000       NaN\n",
       "6 X   400303  0.3702938 0.4806015 0.2295199"
      ]
     },
     "metadata": {},
     "output_type": "display_data"
    },
    {
     "data": {
      "text/html": [
       "<style>\n",
       ".list-inline {list-style: none; margin:0; padding: 0}\n",
       ".list-inline>li {display: inline-block}\n",
       ".list-inline>li:not(:last-child)::after {content: \"\\00b7\"; padding: 0 .5ex}\n",
       "</style>\n",
       "<ol class=list-inline><li>1</li><li>2</li><li>4</li><li>5</li><li>7</li><li>8</li></ol>\n"
      ],
      "text/latex": [
       "\\begin{enumerate*}\n",
       "\\item 1\n",
       "\\item 2\n",
       "\\item 4\n",
       "\\item 5\n",
       "\\item 7\n",
       "\\item 8\n",
       "\\end{enumerate*}\n"
      ],
      "text/markdown": [
       "1. 1\n",
       "2. 2\n",
       "3. 4\n",
       "4. 5\n",
       "5. 7\n",
       "6. 8\n",
       "\n",
       "\n"
      ],
      "text/plain": [
       "[1] 1 2 4 5 7 8"
      ]
     },
     "metadata": {},
     "output_type": "display_data"
    },
    {
     "data": {
      "text/html": [
       "251325"
      ],
      "text/latex": [
       "251325"
      ],
      "text/markdown": [
       "251325"
      ],
      "text/plain": [
       "[1] 251325"
      ]
     },
     "metadata": {},
     "output_type": "display_data"
    },
    {
     "name": "stdout",
     "output_type": "stream",
     "text": [
      "[1] \"CentralAsiaSiberia-Oceania\"\n",
      "[1] \"here\"\n"
     ]
    },
    {
     "data": {
      "text/html": [
       "<table class=\"dataframe\">\n",
       "<caption>A tibble: 6 × 5</caption>\n",
       "<thead>\n",
       "\t<tr><th scope=col>chr</th><th scope=col>snp_pos</th><th scope=col>H_S</th><th scope=col>H_T</th><th scope=col>FST</th></tr>\n",
       "\t<tr><th scope=col>&lt;chr&gt;</th><th scope=col>&lt;int&gt;</th><th scope=col>&lt;dbl&gt;</th><th scope=col>&lt;dbl&gt;</th><th scope=col>&lt;dbl&gt;</th></tr>\n",
       "</thead>\n",
       "<tbody>\n",
       "\t<tr><td>X</td><td>365712</td><td>0.07638889</td><td>0.07986111</td><td>0.04347826</td></tr>\n",
       "\t<tr><td>X</td><td>400000</td><td>0.00000000</td><td>0.00000000</td><td>       NaN</td></tr>\n",
       "\t<tr><td>X</td><td>400108</td><td>0.07638889</td><td>0.49652778</td><td>0.84615385</td></tr>\n",
       "\t<tr><td>X</td><td>400132</td><td>0.00000000</td><td>0.00000000</td><td>       NaN</td></tr>\n",
       "\t<tr><td>X</td><td>400148</td><td>0.00000000</td><td>0.00000000</td><td>       NaN</td></tr>\n",
       "\t<tr><td>X</td><td>400303</td><td>0.45659722</td><td>0.49913194</td><td>0.08521739</td></tr>\n",
       "</tbody>\n",
       "</table>\n"
      ],
      "text/latex": [
       "A tibble: 6 × 5\n",
       "\\begin{tabular}{lllll}\n",
       " chr & snp\\_pos & H\\_S & H\\_T & FST\\\\\n",
       " <chr> & <int> & <dbl> & <dbl> & <dbl>\\\\\n",
       "\\hline\n",
       "\t X & 365712 & 0.07638889 & 0.07986111 & 0.04347826\\\\\n",
       "\t X & 400000 & 0.00000000 & 0.00000000 &        NaN\\\\\n",
       "\t X & 400108 & 0.07638889 & 0.49652778 & 0.84615385\\\\\n",
       "\t X & 400132 & 0.00000000 & 0.00000000 &        NaN\\\\\n",
       "\t X & 400148 & 0.00000000 & 0.00000000 &        NaN\\\\\n",
       "\t X & 400303 & 0.45659722 & 0.49913194 & 0.08521739\\\\\n",
       "\\end{tabular}\n"
      ],
      "text/markdown": [
       "\n",
       "A tibble: 6 × 5\n",
       "\n",
       "| chr &lt;chr&gt; | snp_pos &lt;int&gt; | H_S &lt;dbl&gt; | H_T &lt;dbl&gt; | FST &lt;dbl&gt; |\n",
       "|---|---|---|---|---|\n",
       "| X | 365712 | 0.07638889 | 0.07986111 | 0.04347826 |\n",
       "| X | 400000 | 0.00000000 | 0.00000000 |        NaN |\n",
       "| X | 400108 | 0.07638889 | 0.49652778 | 0.84615385 |\n",
       "| X | 400132 | 0.00000000 | 0.00000000 |        NaN |\n",
       "| X | 400148 | 0.00000000 | 0.00000000 |        NaN |\n",
       "| X | 400303 | 0.45659722 | 0.49913194 | 0.08521739 |\n",
       "\n"
      ],
      "text/plain": [
       "  chr snp_pos H_S        H_T        FST       \n",
       "1 X   365712  0.07638889 0.07986111 0.04347826\n",
       "2 X   400000  0.00000000 0.00000000        NaN\n",
       "3 X   400108  0.07638889 0.49652778 0.84615385\n",
       "4 X   400132  0.00000000 0.00000000        NaN\n",
       "5 X   400148  0.00000000 0.00000000        NaN\n",
       "6 X   400303  0.45659722 0.49913194 0.08521739"
      ]
     },
     "metadata": {},
     "output_type": "display_data"
    },
    {
     "data": {
      "text/html": [
       "<style>\n",
       ".list-inline {list-style: none; margin:0; padding: 0}\n",
       ".list-inline>li {display: inline-block}\n",
       ".list-inline>li:not(:last-child)::after {content: \"\\00b7\"; padding: 0 .5ex}\n",
       "</style>\n",
       "<ol class=list-inline><li>2</li><li>4</li><li>5</li><li>7</li><li>10</li><li>11</li></ol>\n"
      ],
      "text/latex": [
       "\\begin{enumerate*}\n",
       "\\item 2\n",
       "\\item 4\n",
       "\\item 5\n",
       "\\item 7\n",
       "\\item 10\n",
       "\\item 11\n",
       "\\end{enumerate*}\n"
      ],
      "text/markdown": [
       "1. 2\n",
       "2. 4\n",
       "3. 5\n",
       "4. 7\n",
       "5. 10\n",
       "6. 11\n",
       "\n",
       "\n"
      ],
      "text/plain": [
       "[1]  2  4  5  7 10 11"
      ]
     },
     "metadata": {},
     "output_type": "display_data"
    },
    {
     "data": {
      "text/html": [
       "304786"
      ],
      "text/latex": [
       "304786"
      ],
      "text/markdown": [
       "304786"
      ],
      "text/plain": [
       "[1] 304786"
      ]
     },
     "metadata": {},
     "output_type": "display_data"
    },
    {
     "name": "stdout",
     "output_type": "stream",
     "text": [
      "[1] \"CentralAsiaSiberia-WestEurasia\"\n",
      "[1] \"here\"\n"
     ]
    },
    {
     "data": {
      "text/html": [
       "<table class=\"dataframe\">\n",
       "<caption>A tibble: 6 × 5</caption>\n",
       "<thead>\n",
       "\t<tr><th scope=col>chr</th><th scope=col>snp_pos</th><th scope=col>H_S</th><th scope=col>H_T</th><th scope=col>FST</th></tr>\n",
       "\t<tr><th scope=col>&lt;chr&gt;</th><th scope=col>&lt;int&gt;</th><th scope=col>&lt;dbl&gt;</th><th scope=col>&lt;dbl&gt;</th><th scope=col>&lt;dbl&gt;</th></tr>\n",
       "</thead>\n",
       "<tbody>\n",
       "\t<tr><td>X</td><td>365712</td><td>0.00000</td><td>0.0000000</td><td>         NaN</td></tr>\n",
       "\t<tr><td>X</td><td>400000</td><td>0.00000</td><td>0.0000000</td><td>         NaN</td></tr>\n",
       "\t<tr><td>X</td><td>400108</td><td>0.18750</td><td>0.2187500</td><td>0.1428571429</td></tr>\n",
       "\t<tr><td>X</td><td>400132</td><td>0.00000</td><td>0.0000000</td><td>         NaN</td></tr>\n",
       "\t<tr><td>X</td><td>400148</td><td>0.00000</td><td>0.0000000</td><td>         NaN</td></tr>\n",
       "\t<tr><td>X</td><td>400303</td><td>0.46578</td><td>0.4658445</td><td>0.0001386001</td></tr>\n",
       "</tbody>\n",
       "</table>\n"
      ],
      "text/latex": [
       "A tibble: 6 × 5\n",
       "\\begin{tabular}{lllll}\n",
       " chr & snp\\_pos & H\\_S & H\\_T & FST\\\\\n",
       " <chr> & <int> & <dbl> & <dbl> & <dbl>\\\\\n",
       "\\hline\n",
       "\t X & 365712 & 0.00000 & 0.0000000 &          NaN\\\\\n",
       "\t X & 400000 & 0.00000 & 0.0000000 &          NaN\\\\\n",
       "\t X & 400108 & 0.18750 & 0.2187500 & 0.1428571429\\\\\n",
       "\t X & 400132 & 0.00000 & 0.0000000 &          NaN\\\\\n",
       "\t X & 400148 & 0.00000 & 0.0000000 &          NaN\\\\\n",
       "\t X & 400303 & 0.46578 & 0.4658445 & 0.0001386001\\\\\n",
       "\\end{tabular}\n"
      ],
      "text/markdown": [
       "\n",
       "A tibble: 6 × 5\n",
       "\n",
       "| chr &lt;chr&gt; | snp_pos &lt;int&gt; | H_S &lt;dbl&gt; | H_T &lt;dbl&gt; | FST &lt;dbl&gt; |\n",
       "|---|---|---|---|---|\n",
       "| X | 365712 | 0.00000 | 0.0000000 |          NaN |\n",
       "| X | 400000 | 0.00000 | 0.0000000 |          NaN |\n",
       "| X | 400108 | 0.18750 | 0.2187500 | 0.1428571429 |\n",
       "| X | 400132 | 0.00000 | 0.0000000 |          NaN |\n",
       "| X | 400148 | 0.00000 | 0.0000000 |          NaN |\n",
       "| X | 400303 | 0.46578 | 0.4658445 | 0.0001386001 |\n",
       "\n"
      ],
      "text/plain": [
       "  chr snp_pos H_S     H_T       FST         \n",
       "1 X   365712  0.00000 0.0000000          NaN\n",
       "2 X   400000  0.00000 0.0000000          NaN\n",
       "3 X   400108  0.18750 0.2187500 0.1428571429\n",
       "4 X   400132  0.00000 0.0000000          NaN\n",
       "5 X   400148  0.00000 0.0000000          NaN\n",
       "6 X   400303  0.46578 0.4658445 0.0001386001"
      ]
     },
     "metadata": {},
     "output_type": "display_data"
    },
    {
     "data": {
      "text/html": [
       "<style>\n",
       ".list-inline {list-style: none; margin:0; padding: 0}\n",
       ".list-inline>li {display: inline-block}\n",
       ".list-inline>li:not(:last-child)::after {content: \"\\00b7\"; padding: 0 .5ex}\n",
       "</style>\n",
       "<ol class=list-inline><li>1</li><li>2</li><li>4</li><li>5</li><li>7</li><li>11</li></ol>\n"
      ],
      "text/latex": [
       "\\begin{enumerate*}\n",
       "\\item 1\n",
       "\\item 2\n",
       "\\item 4\n",
       "\\item 5\n",
       "\\item 7\n",
       "\\item 11\n",
       "\\end{enumerate*}\n"
      ],
      "text/markdown": [
       "1. 1\n",
       "2. 2\n",
       "3. 4\n",
       "4. 5\n",
       "5. 7\n",
       "6. 11\n",
       "\n",
       "\n"
      ],
      "text/plain": [
       "[1]  1  2  4  5  7 11"
      ]
     },
     "metadata": {},
     "output_type": "display_data"
    },
    {
     "data": {
      "text/html": [
       "247435"
      ],
      "text/latex": [
       "247435"
      ],
      "text/markdown": [
       "247435"
      ],
      "text/plain": [
       "[1] 247435"
      ]
     },
     "metadata": {},
     "output_type": "display_data"
    },
    {
     "name": "stdout",
     "output_type": "stream",
     "text": [
      "[1] \"Oceania-WestEurasia\"\n",
      "[1] \"here\"\n"
     ]
    },
    {
     "data": {
      "text/html": [
       "<table class=\"dataframe\">\n",
       "<caption>A tibble: 6 × 5</caption>\n",
       "<thead>\n",
       "\t<tr><th scope=col>chr</th><th scope=col>snp_pos</th><th scope=col>H_S</th><th scope=col>H_T</th><th scope=col>FST</th></tr>\n",
       "\t<tr><th scope=col>&lt;chr&gt;</th><th scope=col>&lt;int&gt;</th><th scope=col>&lt;dbl&gt;</th><th scope=col>&lt;dbl&gt;</th><th scope=col>&lt;dbl&gt;</th></tr>\n",
       "</thead>\n",
       "<tbody>\n",
       "\t<tr><td>X</td><td>365712</td><td>0.07638889</td><td>0.07986111</td><td>0.04347826</td></tr>\n",
       "\t<tr><td>X</td><td>400000</td><td>0.00000000</td><td>0.00000000</td><td>       NaN</td></tr>\n",
       "\t<tr><td>X</td><td>400108</td><td>0.26388889</td><td>0.48611111</td><td>0.45714286</td></tr>\n",
       "\t<tr><td>X</td><td>400132</td><td>0.00000000</td><td>0.00000000</td><td>       NaN</td></tr>\n",
       "\t<tr><td>X</td><td>400148</td><td>0.00000000</td><td>0.00000000</td><td>       NaN</td></tr>\n",
       "\t<tr><td>X</td><td>400303</td><td>0.45362718</td><td>0.49954086</td><td>0.09191176</td></tr>\n",
       "</tbody>\n",
       "</table>\n"
      ],
      "text/latex": [
       "A tibble: 6 × 5\n",
       "\\begin{tabular}{lllll}\n",
       " chr & snp\\_pos & H\\_S & H\\_T & FST\\\\\n",
       " <chr> & <int> & <dbl> & <dbl> & <dbl>\\\\\n",
       "\\hline\n",
       "\t X & 365712 & 0.07638889 & 0.07986111 & 0.04347826\\\\\n",
       "\t X & 400000 & 0.00000000 & 0.00000000 &        NaN\\\\\n",
       "\t X & 400108 & 0.26388889 & 0.48611111 & 0.45714286\\\\\n",
       "\t X & 400132 & 0.00000000 & 0.00000000 &        NaN\\\\\n",
       "\t X & 400148 & 0.00000000 & 0.00000000 &        NaN\\\\\n",
       "\t X & 400303 & 0.45362718 & 0.49954086 & 0.09191176\\\\\n",
       "\\end{tabular}\n"
      ],
      "text/markdown": [
       "\n",
       "A tibble: 6 × 5\n",
       "\n",
       "| chr &lt;chr&gt; | snp_pos &lt;int&gt; | H_S &lt;dbl&gt; | H_T &lt;dbl&gt; | FST &lt;dbl&gt; |\n",
       "|---|---|---|---|---|\n",
       "| X | 365712 | 0.07638889 | 0.07986111 | 0.04347826 |\n",
       "| X | 400000 | 0.00000000 | 0.00000000 |        NaN |\n",
       "| X | 400108 | 0.26388889 | 0.48611111 | 0.45714286 |\n",
       "| X | 400132 | 0.00000000 | 0.00000000 |        NaN |\n",
       "| X | 400148 | 0.00000000 | 0.00000000 |        NaN |\n",
       "| X | 400303 | 0.45362718 | 0.49954086 | 0.09191176 |\n",
       "\n"
      ],
      "text/plain": [
       "  chr snp_pos H_S        H_T        FST       \n",
       "1 X   365712  0.07638889 0.07986111 0.04347826\n",
       "2 X   400000  0.00000000 0.00000000        NaN\n",
       "3 X   400108  0.26388889 0.48611111 0.45714286\n",
       "4 X   400132  0.00000000 0.00000000        NaN\n",
       "5 X   400148  0.00000000 0.00000000        NaN\n",
       "6 X   400303  0.45362718 0.49954086 0.09191176"
      ]
     },
     "metadata": {},
     "output_type": "display_data"
    },
    {
     "data": {
      "text/html": [
       "<style>\n",
       ".list-inline {list-style: none; margin:0; padding: 0}\n",
       ".list-inline>li {display: inline-block}\n",
       ".list-inline>li:not(:last-child)::after {content: \"\\00b7\"; padding: 0 .5ex}\n",
       "</style>\n",
       "<ol class=list-inline><li>2</li><li>4</li><li>5</li><li>7</li><li>8</li><li>11</li></ol>\n"
      ],
      "text/latex": [
       "\\begin{enumerate*}\n",
       "\\item 2\n",
       "\\item 4\n",
       "\\item 5\n",
       "\\item 7\n",
       "\\item 8\n",
       "\\item 11\n",
       "\\end{enumerate*}\n"
      ],
      "text/markdown": [
       "1. 2\n",
       "2. 4\n",
       "3. 5\n",
       "4. 7\n",
       "5. 8\n",
       "6. 11\n",
       "\n",
       "\n"
      ],
      "text/plain": [
       "[1]  2  4  5  7  8 11"
      ]
     },
     "metadata": {},
     "output_type": "display_data"
    },
    {
     "data": {
      "text/html": [
       "237540"
      ],
      "text/latex": [
       "237540"
      ],
      "text/markdown": [
       "237540"
      ],
      "text/plain": [
       "[1] 237540"
      ]
     },
     "metadata": {},
     "output_type": "display_data"
    }
   ],
   "source": [
    "#####################################################################################\n",
    "\n",
    "#between SouthAsia-America\n",
    "print(\"SouthAsia-America\")\n",
    "FST_SA_AM_per_position <- FST_per_position(res_scan, c(\"America\", \"SouthAsia\"))\n",
    "head(FST_SA_AM_per_position)\n",
    "write_delim(FST_SA_AM_per_position, \"FST_SA_AM_per_position.csv\", delim = \"\\t\")\n",
    "\n",
    "missing_FST_SA_AM <- which(is.na(FST_SA_AM_per_position$FST))\n",
    "head(missing_FST_SA_AM)\n",
    "length(missing_FST_SA_AM)\n",
    "\n",
    "FST_SA_AM_per_position <- FST_SA_AM_per_position %>% mutate(FST = coalesce(FST, 0))\n",
    "\n",
    "#between SouthAsia-CentralAsiaSiberia\n",
    "print(\"SouthAsia-CentralAsiaSiberia\")\n",
    "FST_SA_CAS_per_position <- FST_per_position(res_scan, c(\"CentralAsiaSiberia\", \"SouthAsia\"))\n",
    "head(FST_SA_CAS_per_position)\n",
    "write_delim(FST_SA_CAS_per_position, \"FST_SA_CAS_per_position.csv\", delim = \"\\t\")\n",
    "\n",
    "missing_FST_SA_CAS <- which(is.na(FST_SA_CAS_per_position$FST))\n",
    "head(missing_FST_SA_CAS)\n",
    "length(missing_FST_SA_CAS)\n",
    "\n",
    "FST_SA_CAS_per_position <- FST_SA_CAS_per_position %>% mutate(FST = coalesce(FST, 0))\n",
    "\n",
    "#between SouthAsia-Oceania\n",
    "print(\"SouthAsia-Oceania\")\n",
    "FST_SA_O_per_position <- FST_per_position(res_scan, c(\"Oceania\", \"SouthAsia\"))\n",
    "head(FST_SA_O_per_position)\n",
    "write_delim(FST_SA_O_per_position, \"FST_SA_O_per_position.csv\", delim = \"\\t\")\n",
    "\n",
    "missing_FST_SA_O <- which(is.na(FST_SA_O_per_position$FST))\n",
    "head(missing_FST_SA_O)\n",
    "length(missing_FST_SA_O)\n",
    "\n",
    "FST_SA_O_per_position <- FST_SA_O_per_position %>% mutate(FST = coalesce(FST, 0))\n",
    "\n",
    "#between SouthAsia-WestEurasia\n",
    "print(\"SouthAsia-WestEurasia\")\n",
    "FST_SA_WE_per_position <- FST_per_position(res_scan, c(\"WestEurasia\", \"SouthAsia\"))\n",
    "head(FST_SA_WE_per_position)\n",
    "write_delim(FST_SA_WE_per_position, \"FST_SA_WE_per_position.csv\", delim = \"\\t\")\n",
    "\n",
    "missing_FST_SA_WE <- which(is.na(FST_SA_WE_per_position$FST))\n",
    "head(missing_FST_SA_WE)\n",
    "length(missing_FST_SA_WE)\n",
    "\n",
    "FST_SA_WE_per_position <- FST_SA_WE_per_position %>% mutate(FST = coalesce(FST, 0))\n",
    "\n",
    "#####################################################################################\n",
    "\n",
    "#between America-CentralAsiaSiberia\n",
    "print(\"America-CentralAsiaSiberia\")\n",
    "FST_AM_CAS_per_position <- FST_per_position(res_scan, c(\"America\", \"CentralAsiaSiberia\"))\n",
    "head(FST_AM_CAS_per_position)\n",
    "write_delim(FST_AM_CAS_per_position, \"FST_AM_CAS_per_position.csv\", delim = \"\\t\")\n",
    "\n",
    "missing_FST_AM_CAS <- which(is.na(FST_AM_CAS_per_position$FST))\n",
    "head(missing_FST_AM_CAS)\n",
    "length(missing_FST_AM_CAS)\n",
    "\n",
    "FST_AM_CAS_per_position <- FST_AM_CAS_per_position %>% mutate(FST = coalesce(FST, 0))\n",
    "\n",
    "#between America-Oceania\n",
    "print(\"America-Oceania\")\n",
    "FST_AM_O_per_position <- FST_per_position(res_scan, c(\"America\", \"Oceania\"))\n",
    "head(FST_AM_O_per_position)\n",
    "write_delim(FST_AM_O_per_position, \"FST_AM_O_per_position.csv\", delim = \"\\t\")\n",
    "\n",
    "missing_FST_AM_O <- which(is.na(FST_AM_O_per_position$FST))\n",
    "head(missing_FST_AM_O)\n",
    "length(missing_FST_AM_O)\n",
    "\n",
    "FST_AM_O_per_position <- FST_AM_O_per_position %>% mutate(FST = coalesce(FST, 0))\n",
    "\n",
    "#between America-WestEurasia\n",
    "print(\"America-WestEurasia\")\n",
    "FST_AM_WE_per_position <- FST_per_position(res_scan, c(\"America\", \"WestEurasia\"))\n",
    "head(FST_AM_WE_per_position)\n",
    "write_delim(FST_AM_WE_per_position, \"FST_AM_WE_per_position.csv\", delim = \"\\t\")\n",
    "\n",
    "missing_FST_AM_WE <- which(is.na(FST_AM_WE_per_position$FST))\n",
    "head(missing_FST_AM_WE)\n",
    "length(missing_FST_AM_WE)\n",
    "\n",
    "FST_AM_WE_per_position <- FST_AM_WE_per_position %>% mutate(FST = coalesce(FST, 0))\n",
    "\n",
    "#####################################################################################\n",
    "\n",
    "#between CentralAsiaSiberia-Oceania\n",
    "print(\"CentralAsiaSiberia-Oceania\")\n",
    "FST_CAS_O_per_position <- FST_per_position(res_scan, c(\"Oceania\", \"CentralAsiaSiberia\"))\n",
    "head(FST_CAS_O_per_position)\n",
    "write_delim(FST_CAS_O_per_position, \"FST_CAS_O_per_position.csv\", delim = \"\\t\")\n",
    "\n",
    "missing_FST_CAS_O <- which(is.na(FST_CAS_O_per_position$FST))\n",
    "head(missing_FST_CAS_O)\n",
    "length(missing_FST_CAS_O)\n",
    "\n",
    "FST_CAS_O_per_position <- FST_CAS_O_per_position %>% mutate(FST = coalesce(FST, 0))\n",
    "\n",
    "#between CentralAsiaSiberia-WestEurasia\n",
    "print(\"CentralAsiaSiberia-WestEurasia\")\n",
    "FST_CAS_WE_per_position <- FST_per_position(res_scan, c(\"WestEurasia\", \"CentralAsiaSiberia\"))\n",
    "head(FST_CAS_WE_per_position)\n",
    "write_delim(FST_CAS_WE_per_position, \"FST_CAS_WE_per_position.csv\", delim = \"\\t\")\n",
    "\n",
    "missing_FST_CAS_WE <- which(is.na(FST_CAS_WE_per_position$FST))\n",
    "head(missing_FST_CAS_WE)\n",
    "length(missing_FST_CAS_WE)\n",
    "\n",
    "FST_CAS_WE_per_position <- FST_CAS_WE_per_position %>% mutate(FST = coalesce(FST, 0))\n",
    "\n",
    "#####################################################################################\n",
    "\n",
    "#between Oceania-WestEurasia\n",
    "print(\"Oceania-WestEurasia\")\n",
    "FST_O_WE_per_position <- FST_per_position(res_scan, c(\"Oceania\", \"WestEurasia\"))\n",
    "head(FST_O_WE_per_position)\n",
    "write_delim(FST_O_WE_per_position, \"FST_O_WE_per_position.csv\", delim = \"\\t\")\n",
    "\n",
    "missing_FST_O_WE <- which(is.na(FST_O_WE_per_position$FST))\n",
    "head(missing_FST_O_WE)\n",
    "length(missing_FST_O_WE)\n",
    "\n",
    "FST_O_WE_per_position <- FST_O_WE_per_position %>% mutate(FST = coalesce(FST, 0))\n",
    "\n"
   ]
  }
 ],
 "metadata": {
  "kernelspec": {
   "display_name": "R",
   "language": "R",
   "name": "ir"
  },
  "language_info": {
   "codemirror_mode": "r",
   "file_extension": ".r",
   "mimetype": "text/x-r-source",
   "name": "R",
   "pygments_lexer": "r",
   "version": "4.0.3"
  }
 },
 "nbformat": 4,
 "nbformat_minor": 5
}
